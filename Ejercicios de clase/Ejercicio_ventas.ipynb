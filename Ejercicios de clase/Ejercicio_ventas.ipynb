{
  "nbformat": 4,
  "nbformat_minor": 0,
  "metadata": {
    "colab": {
      "provenance": [],
      "authorship_tag": "ABX9TyPFHDkET5SUcnSB/MKdVKEx",
      "include_colab_link": true
    },
    "kernelspec": {
      "name": "python3",
      "display_name": "Python 3"
    },
    "language_info": {
      "name": "python"
    }
  },
  "cells": [
    {
      "cell_type": "markdown",
      "metadata": {
        "id": "view-in-github",
        "colab_type": "text"
      },
      "source": [
        "<a href=\"https://colab.research.google.com/github/InesAgudoMartin/UFV-visualizaci-n/blob/main/Ejercicios%20de%20clase/Ejercicio_ventas.ipynb\" target=\"_parent\"><img src=\"https://colab.research.google.com/assets/colab-badge.svg\" alt=\"Open In Colab\"/></a>"
      ]
    },
    {
      "cell_type": "markdown",
      "source": [
        "##PRÁCTICA 1: VENTAS EN EUROPA"
      ],
      "metadata": {
        "id": "PdM0hq0GSzlb"
      }
    },
    {
      "cell_type": "markdown",
      "source": [
        "Esta base de datos con la que vamos a trabajar muestra ventas reales y proyectadas por país y submarca, organizadas por mes. Incluye el año, mes, tipo de escenario (reales o predicciones), tipo de pronóstico y la cantidad de ventas. Es muy útil para analizar patrones y proyecciones de ventas en distintos mercados."
      ],
      "metadata": {
        "id": "41d8lMkAKR0p"
      }
    },
    {
      "cell_type": "code",
      "source": [
        "import pandas as pd\n",
        "import matplotlib.pyplot as plt\n",
        "import requests\n",
        "# URL del archivo CSV en GitHub\n",
        "url = \"https://raw.githubusercontent.com/InesAgudoMartin/UFV-visualizaci-n/refs/heads/main/Ejercicios%20de%20clase/datos_ejercicio_ventas.csv?token=GHSAT0AAAAAACZ6ADAU47BX6BIZTPHKMSL4ZZRFHLQ\"\n",
        "nombre = 'datos_ejercicio_ventas.csv'\n",
        "# Realizar la solicitud GET para obtener el contenido del archivo\n",
        "response = requests.get(url)\n",
        "\n",
        "# Verificar si la solicitud fue exitosa (código de estado 200)\n",
        "if response.status_code == 200:\n",
        "     # Guardar el contenido del archivo en un archivo local\n",
        "    with open(nombre, 'wb') as f:\n",
        "        f.write(response.content)\n",
        "    print(\"Archivo descargado exitosamente.\")\n",
        "else:\n",
        "    print(\"Error al descargar el archivo.\")\n",
        "\n",
        "df = pd.read_csv(nombre)\n",
        "df.head(10)"
      ],
      "metadata": {
        "colab": {
          "base_uri": "https://localhost:8080/",
          "height": 380
        },
        "id": "q2vDtv7ASysS",
        "outputId": "16c95054-b5c8-4f4f-ef29-82e956d36bdb"
      },
      "execution_count": 1,
      "outputs": [
        {
          "output_type": "stream",
          "name": "stdout",
          "text": [
            "Archivo descargado exitosamente.\n"
          ]
        },
        {
          "output_type": "execute_result",
          "data": {
            "text/plain": [
              "         COUNTRY            SUBBRAND  YEAR  MONTH     SCENARIO FORECAST  \\\n",
              "0       Portugal         Lipton (L3)  2023     12  AI_forecast  AI_P02F   \n",
              "1  Great Britain         Lipton (L3)  2023     12  AI_forecast  AI_P10F   \n",
              "2          Spain      Pepsi Max (L3)  2023     12  AI_forecast  AI_P09F   \n",
              "3  Great Britain            7up (L3)  2024     12  AI_forecast  AI_P10F   \n",
              "4        Hungary         Lipton (L3)  2023      9  AI_forecast  AI_P03F   \n",
              "5         Norway  Pepsi Regular (L3)  2025      2  AI_forecast  AI_P09F   \n",
              "6        Denmark            7up (L3)  2023     12  AI_forecast    AI_PF   \n",
              "7    Netherlands   Mountain Dew (L3)  2024      4  AI_forecast  AI_P02F   \n",
              "8  Great Britain      Pepsi Max (L3)  2023      9  AI_forecast  AI_P02F   \n",
              "9          Italy  Pepsi Regular (L3)  2023      4  AI_forecast  AI_P03F   \n",
              "\n",
              "   FORECAST_YEAR        AMOUNT  \n",
              "0         2023.0  7.543562e+05  \n",
              "1         2023.0  5.600306e+05  \n",
              "2         2023.0  8.850198e+04  \n",
              "3         2023.0  3.632245e+05  \n",
              "4         2023.0  3.961761e+05  \n",
              "5         2023.0  2.667267e+04  \n",
              "6         2023.0  0.000000e+00  \n",
              "7         2023.0  0.000000e+00  \n",
              "8         2023.0  1.138557e+07  \n",
              "9         2023.0  2.074742e+06  "
            ],
            "text/html": [
              "\n",
              "  <div id=\"df-3d1d48db-dc24-45d5-9a9e-ad7381ac7bac\" class=\"colab-df-container\">\n",
              "    <div>\n",
              "<style scoped>\n",
              "    .dataframe tbody tr th:only-of-type {\n",
              "        vertical-align: middle;\n",
              "    }\n",
              "\n",
              "    .dataframe tbody tr th {\n",
              "        vertical-align: top;\n",
              "    }\n",
              "\n",
              "    .dataframe thead th {\n",
              "        text-align: right;\n",
              "    }\n",
              "</style>\n",
              "<table border=\"1\" class=\"dataframe\">\n",
              "  <thead>\n",
              "    <tr style=\"text-align: right;\">\n",
              "      <th></th>\n",
              "      <th>COUNTRY</th>\n",
              "      <th>SUBBRAND</th>\n",
              "      <th>YEAR</th>\n",
              "      <th>MONTH</th>\n",
              "      <th>SCENARIO</th>\n",
              "      <th>FORECAST</th>\n",
              "      <th>FORECAST_YEAR</th>\n",
              "      <th>AMOUNT</th>\n",
              "    </tr>\n",
              "  </thead>\n",
              "  <tbody>\n",
              "    <tr>\n",
              "      <th>0</th>\n",
              "      <td>Portugal</td>\n",
              "      <td>Lipton (L3)</td>\n",
              "      <td>2023</td>\n",
              "      <td>12</td>\n",
              "      <td>AI_forecast</td>\n",
              "      <td>AI_P02F</td>\n",
              "      <td>2023.0</td>\n",
              "      <td>7.543562e+05</td>\n",
              "    </tr>\n",
              "    <tr>\n",
              "      <th>1</th>\n",
              "      <td>Great Britain</td>\n",
              "      <td>Lipton (L3)</td>\n",
              "      <td>2023</td>\n",
              "      <td>12</td>\n",
              "      <td>AI_forecast</td>\n",
              "      <td>AI_P10F</td>\n",
              "      <td>2023.0</td>\n",
              "      <td>5.600306e+05</td>\n",
              "    </tr>\n",
              "    <tr>\n",
              "      <th>2</th>\n",
              "      <td>Spain</td>\n",
              "      <td>Pepsi Max (L3)</td>\n",
              "      <td>2023</td>\n",
              "      <td>12</td>\n",
              "      <td>AI_forecast</td>\n",
              "      <td>AI_P09F</td>\n",
              "      <td>2023.0</td>\n",
              "      <td>8.850198e+04</td>\n",
              "    </tr>\n",
              "    <tr>\n",
              "      <th>3</th>\n",
              "      <td>Great Britain</td>\n",
              "      <td>7up (L3)</td>\n",
              "      <td>2024</td>\n",
              "      <td>12</td>\n",
              "      <td>AI_forecast</td>\n",
              "      <td>AI_P10F</td>\n",
              "      <td>2023.0</td>\n",
              "      <td>3.632245e+05</td>\n",
              "    </tr>\n",
              "    <tr>\n",
              "      <th>4</th>\n",
              "      <td>Hungary</td>\n",
              "      <td>Lipton (L3)</td>\n",
              "      <td>2023</td>\n",
              "      <td>9</td>\n",
              "      <td>AI_forecast</td>\n",
              "      <td>AI_P03F</td>\n",
              "      <td>2023.0</td>\n",
              "      <td>3.961761e+05</td>\n",
              "    </tr>\n",
              "    <tr>\n",
              "      <th>5</th>\n",
              "      <td>Norway</td>\n",
              "      <td>Pepsi Regular (L3)</td>\n",
              "      <td>2025</td>\n",
              "      <td>2</td>\n",
              "      <td>AI_forecast</td>\n",
              "      <td>AI_P09F</td>\n",
              "      <td>2023.0</td>\n",
              "      <td>2.667267e+04</td>\n",
              "    </tr>\n",
              "    <tr>\n",
              "      <th>6</th>\n",
              "      <td>Denmark</td>\n",
              "      <td>7up (L3)</td>\n",
              "      <td>2023</td>\n",
              "      <td>12</td>\n",
              "      <td>AI_forecast</td>\n",
              "      <td>AI_PF</td>\n",
              "      <td>2023.0</td>\n",
              "      <td>0.000000e+00</td>\n",
              "    </tr>\n",
              "    <tr>\n",
              "      <th>7</th>\n",
              "      <td>Netherlands</td>\n",
              "      <td>Mountain Dew (L3)</td>\n",
              "      <td>2024</td>\n",
              "      <td>4</td>\n",
              "      <td>AI_forecast</td>\n",
              "      <td>AI_P02F</td>\n",
              "      <td>2023.0</td>\n",
              "      <td>0.000000e+00</td>\n",
              "    </tr>\n",
              "    <tr>\n",
              "      <th>8</th>\n",
              "      <td>Great Britain</td>\n",
              "      <td>Pepsi Max (L3)</td>\n",
              "      <td>2023</td>\n",
              "      <td>9</td>\n",
              "      <td>AI_forecast</td>\n",
              "      <td>AI_P02F</td>\n",
              "      <td>2023.0</td>\n",
              "      <td>1.138557e+07</td>\n",
              "    </tr>\n",
              "    <tr>\n",
              "      <th>9</th>\n",
              "      <td>Italy</td>\n",
              "      <td>Pepsi Regular (L3)</td>\n",
              "      <td>2023</td>\n",
              "      <td>4</td>\n",
              "      <td>AI_forecast</td>\n",
              "      <td>AI_P03F</td>\n",
              "      <td>2023.0</td>\n",
              "      <td>2.074742e+06</td>\n",
              "    </tr>\n",
              "  </tbody>\n",
              "</table>\n",
              "</div>\n",
              "    <div class=\"colab-df-buttons\">\n",
              "\n",
              "  <div class=\"colab-df-container\">\n",
              "    <button class=\"colab-df-convert\" onclick=\"convertToInteractive('df-3d1d48db-dc24-45d5-9a9e-ad7381ac7bac')\"\n",
              "            title=\"Convert this dataframe to an interactive table.\"\n",
              "            style=\"display:none;\">\n",
              "\n",
              "  <svg xmlns=\"http://www.w3.org/2000/svg\" height=\"24px\" viewBox=\"0 -960 960 960\">\n",
              "    <path d=\"M120-120v-720h720v720H120Zm60-500h600v-160H180v160Zm220 220h160v-160H400v160Zm0 220h160v-160H400v160ZM180-400h160v-160H180v160Zm440 0h160v-160H620v160ZM180-180h160v-160H180v160Zm440 0h160v-160H620v160Z\"/>\n",
              "  </svg>\n",
              "    </button>\n",
              "\n",
              "  <style>\n",
              "    .colab-df-container {\n",
              "      display:flex;\n",
              "      gap: 12px;\n",
              "    }\n",
              "\n",
              "    .colab-df-convert {\n",
              "      background-color: #E8F0FE;\n",
              "      border: none;\n",
              "      border-radius: 50%;\n",
              "      cursor: pointer;\n",
              "      display: none;\n",
              "      fill: #1967D2;\n",
              "      height: 32px;\n",
              "      padding: 0 0 0 0;\n",
              "      width: 32px;\n",
              "    }\n",
              "\n",
              "    .colab-df-convert:hover {\n",
              "      background-color: #E2EBFA;\n",
              "      box-shadow: 0px 1px 2px rgba(60, 64, 67, 0.3), 0px 1px 3px 1px rgba(60, 64, 67, 0.15);\n",
              "      fill: #174EA6;\n",
              "    }\n",
              "\n",
              "    .colab-df-buttons div {\n",
              "      margin-bottom: 4px;\n",
              "    }\n",
              "\n",
              "    [theme=dark] .colab-df-convert {\n",
              "      background-color: #3B4455;\n",
              "      fill: #D2E3FC;\n",
              "    }\n",
              "\n",
              "    [theme=dark] .colab-df-convert:hover {\n",
              "      background-color: #434B5C;\n",
              "      box-shadow: 0px 1px 3px 1px rgba(0, 0, 0, 0.15);\n",
              "      filter: drop-shadow(0px 1px 2px rgba(0, 0, 0, 0.3));\n",
              "      fill: #FFFFFF;\n",
              "    }\n",
              "  </style>\n",
              "\n",
              "    <script>\n",
              "      const buttonEl =\n",
              "        document.querySelector('#df-3d1d48db-dc24-45d5-9a9e-ad7381ac7bac button.colab-df-convert');\n",
              "      buttonEl.style.display =\n",
              "        google.colab.kernel.accessAllowed ? 'block' : 'none';\n",
              "\n",
              "      async function convertToInteractive(key) {\n",
              "        const element = document.querySelector('#df-3d1d48db-dc24-45d5-9a9e-ad7381ac7bac');\n",
              "        const dataTable =\n",
              "          await google.colab.kernel.invokeFunction('convertToInteractive',\n",
              "                                                    [key], {});\n",
              "        if (!dataTable) return;\n",
              "\n",
              "        const docLinkHtml = 'Like what you see? Visit the ' +\n",
              "          '<a target=\"_blank\" href=https://colab.research.google.com/notebooks/data_table.ipynb>data table notebook</a>'\n",
              "          + ' to learn more about interactive tables.';\n",
              "        element.innerHTML = '';\n",
              "        dataTable['output_type'] = 'display_data';\n",
              "        await google.colab.output.renderOutput(dataTable, element);\n",
              "        const docLink = document.createElement('div');\n",
              "        docLink.innerHTML = docLinkHtml;\n",
              "        element.appendChild(docLink);\n",
              "      }\n",
              "    </script>\n",
              "  </div>\n",
              "\n",
              "\n",
              "<div id=\"df-b20dfb9e-c1e4-40ce-b100-ab13a032950d\">\n",
              "  <button class=\"colab-df-quickchart\" onclick=\"quickchart('df-b20dfb9e-c1e4-40ce-b100-ab13a032950d')\"\n",
              "            title=\"Suggest charts\"\n",
              "            style=\"display:none;\">\n",
              "\n",
              "<svg xmlns=\"http://www.w3.org/2000/svg\" height=\"24px\"viewBox=\"0 0 24 24\"\n",
              "     width=\"24px\">\n",
              "    <g>\n",
              "        <path d=\"M19 3H5c-1.1 0-2 .9-2 2v14c0 1.1.9 2 2 2h14c1.1 0 2-.9 2-2V5c0-1.1-.9-2-2-2zM9 17H7v-7h2v7zm4 0h-2V7h2v10zm4 0h-2v-4h2v4z\"/>\n",
              "    </g>\n",
              "</svg>\n",
              "  </button>\n",
              "\n",
              "<style>\n",
              "  .colab-df-quickchart {\n",
              "      --bg-color: #E8F0FE;\n",
              "      --fill-color: #1967D2;\n",
              "      --hover-bg-color: #E2EBFA;\n",
              "      --hover-fill-color: #174EA6;\n",
              "      --disabled-fill-color: #AAA;\n",
              "      --disabled-bg-color: #DDD;\n",
              "  }\n",
              "\n",
              "  [theme=dark] .colab-df-quickchart {\n",
              "      --bg-color: #3B4455;\n",
              "      --fill-color: #D2E3FC;\n",
              "      --hover-bg-color: #434B5C;\n",
              "      --hover-fill-color: #FFFFFF;\n",
              "      --disabled-bg-color: #3B4455;\n",
              "      --disabled-fill-color: #666;\n",
              "  }\n",
              "\n",
              "  .colab-df-quickchart {\n",
              "    background-color: var(--bg-color);\n",
              "    border: none;\n",
              "    border-radius: 50%;\n",
              "    cursor: pointer;\n",
              "    display: none;\n",
              "    fill: var(--fill-color);\n",
              "    height: 32px;\n",
              "    padding: 0;\n",
              "    width: 32px;\n",
              "  }\n",
              "\n",
              "  .colab-df-quickchart:hover {\n",
              "    background-color: var(--hover-bg-color);\n",
              "    box-shadow: 0 1px 2px rgba(60, 64, 67, 0.3), 0 1px 3px 1px rgba(60, 64, 67, 0.15);\n",
              "    fill: var(--button-hover-fill-color);\n",
              "  }\n",
              "\n",
              "  .colab-df-quickchart-complete:disabled,\n",
              "  .colab-df-quickchart-complete:disabled:hover {\n",
              "    background-color: var(--disabled-bg-color);\n",
              "    fill: var(--disabled-fill-color);\n",
              "    box-shadow: none;\n",
              "  }\n",
              "\n",
              "  .colab-df-spinner {\n",
              "    border: 2px solid var(--fill-color);\n",
              "    border-color: transparent;\n",
              "    border-bottom-color: var(--fill-color);\n",
              "    animation:\n",
              "      spin 1s steps(1) infinite;\n",
              "  }\n",
              "\n",
              "  @keyframes spin {\n",
              "    0% {\n",
              "      border-color: transparent;\n",
              "      border-bottom-color: var(--fill-color);\n",
              "      border-left-color: var(--fill-color);\n",
              "    }\n",
              "    20% {\n",
              "      border-color: transparent;\n",
              "      border-left-color: var(--fill-color);\n",
              "      border-top-color: var(--fill-color);\n",
              "    }\n",
              "    30% {\n",
              "      border-color: transparent;\n",
              "      border-left-color: var(--fill-color);\n",
              "      border-top-color: var(--fill-color);\n",
              "      border-right-color: var(--fill-color);\n",
              "    }\n",
              "    40% {\n",
              "      border-color: transparent;\n",
              "      border-right-color: var(--fill-color);\n",
              "      border-top-color: var(--fill-color);\n",
              "    }\n",
              "    60% {\n",
              "      border-color: transparent;\n",
              "      border-right-color: var(--fill-color);\n",
              "    }\n",
              "    80% {\n",
              "      border-color: transparent;\n",
              "      border-right-color: var(--fill-color);\n",
              "      border-bottom-color: var(--fill-color);\n",
              "    }\n",
              "    90% {\n",
              "      border-color: transparent;\n",
              "      border-bottom-color: var(--fill-color);\n",
              "    }\n",
              "  }\n",
              "</style>\n",
              "\n",
              "  <script>\n",
              "    async function quickchart(key) {\n",
              "      const quickchartButtonEl =\n",
              "        document.querySelector('#' + key + ' button');\n",
              "      quickchartButtonEl.disabled = true;  // To prevent multiple clicks.\n",
              "      quickchartButtonEl.classList.add('colab-df-spinner');\n",
              "      try {\n",
              "        const charts = await google.colab.kernel.invokeFunction(\n",
              "            'suggestCharts', [key], {});\n",
              "      } catch (error) {\n",
              "        console.error('Error during call to suggestCharts:', error);\n",
              "      }\n",
              "      quickchartButtonEl.classList.remove('colab-df-spinner');\n",
              "      quickchartButtonEl.classList.add('colab-df-quickchart-complete');\n",
              "    }\n",
              "    (() => {\n",
              "      let quickchartButtonEl =\n",
              "        document.querySelector('#df-b20dfb9e-c1e4-40ce-b100-ab13a032950d button');\n",
              "      quickchartButtonEl.style.display =\n",
              "        google.colab.kernel.accessAllowed ? 'block' : 'none';\n",
              "    })();\n",
              "  </script>\n",
              "</div>\n",
              "\n",
              "    </div>\n",
              "  </div>\n"
            ],
            "application/vnd.google.colaboratory.intrinsic+json": {
              "type": "dataframe",
              "variable_name": "df",
              "summary": "{\n  \"name\": \"df\",\n  \"rows\": 18666,\n  \"fields\": [\n    {\n      \"column\": \"COUNTRY\",\n      \"properties\": {\n        \"dtype\": \"category\",\n        \"num_unique_values\": 9,\n        \"samples\": [\n          \"Italy\",\n          \"Great Britain\",\n          \"Denmark\"\n        ],\n        \"semantic_type\": \"\",\n        \"description\": \"\"\n      }\n    },\n    {\n      \"column\": \"SUBBRAND\",\n      \"properties\": {\n        \"dtype\": \"category\",\n        \"num_unique_values\": 6,\n        \"samples\": [\n          \"Lipton (L3)\",\n          \"Pepsi Max (L3)\",\n          \"7up Free (L3)\"\n        ],\n        \"semantic_type\": \"\",\n        \"description\": \"\"\n      }\n    },\n    {\n      \"column\": \"YEAR\",\n      \"properties\": {\n        \"dtype\": \"number\",\n        \"std\": 0,\n        \"min\": 2023,\n        \"max\": 2025,\n        \"num_unique_values\": 3,\n        \"samples\": [\n          2023,\n          2024,\n          2025\n        ],\n        \"semantic_type\": \"\",\n        \"description\": \"\"\n      }\n    },\n    {\n      \"column\": \"MONTH\",\n      \"properties\": {\n        \"dtype\": \"number\",\n        \"std\": 3,\n        \"min\": 1,\n        \"max\": 12,\n        \"num_unique_values\": 12,\n        \"samples\": [\n          5,\n          3,\n          12\n        ],\n        \"semantic_type\": \"\",\n        \"description\": \"\"\n      }\n    },\n    {\n      \"column\": \"SCENARIO\",\n      \"properties\": {\n        \"dtype\": \"category\",\n        \"num_unique_values\": 2,\n        \"samples\": [\n          \"actual\",\n          \"AI_forecast\"\n        ],\n        \"semantic_type\": \"\",\n        \"description\": \"\"\n      }\n    },\n    {\n      \"column\": \"FORECAST\",\n      \"properties\": {\n        \"dtype\": \"category\",\n        \"num_unique_values\": 12,\n        \"samples\": [\n          \"AI_P08F\",\n          \"AI_P12F\"\n        ],\n        \"semantic_type\": \"\",\n        \"description\": \"\"\n      }\n    },\n    {\n      \"column\": \"FORECAST_YEAR\",\n      \"properties\": {\n        \"dtype\": \"number\",\n        \"std\": 0.0,\n        \"min\": 2023.0,\n        \"max\": 2023.0,\n        \"num_unique_values\": 1,\n        \"samples\": [\n          2023.0\n        ],\n        \"semantic_type\": \"\",\n        \"description\": \"\"\n      }\n    },\n    {\n      \"column\": \"AMOUNT\",\n      \"properties\": {\n        \"dtype\": \"number\",\n        \"std\": 1915283.448382496,\n        \"min\": -217120.10313272703,\n        \"max\": 14815628.237867463,\n        \"num_unique_values\": 17121,\n        \"samples\": [\n          2568883.4881238216\n        ],\n        \"semantic_type\": \"\",\n        \"description\": \"\"\n      }\n    }\n  ]\n}"
            }
          },
          "metadata": {},
          "execution_count": 1
        }
      ]
    },
    {
      "cell_type": "markdown",
      "source": [
        "**NÚMERO DE FILAS**\n",
        "\n",
        "Queremos saber cuántos registros totales tenemos en la base de datos. Cada fila representa datos específicos de ventas en un país, submarca y mes.\n",
        "Esto  nos ayuda a entender el tamaño de la información disponible y si tenemos suficientes datos para analizar tendencias.\n",
        "\n",
        "Esta función nos devuelve el número de filas y de columnas pero al especificar [0], estamos pidiendo solo las filas, luego nos muestra la cantidad."
      ],
      "metadata": {
        "id": "B6Pt_mx_TeCS"
      }
    },
    {
      "cell_type": "code",
      "source": [
        "num_filas = df.shape[0]\n",
        "print(\"Número de filas:\", num_filas)"
      ],
      "metadata": {
        "colab": {
          "base_uri": "https://localhost:8080/"
        },
        "id": "pGbmhXrvTz_4",
        "outputId": "7efb17bf-3dd4-4383-8f00-edba14921f09"
      },
      "execution_count": 2,
      "outputs": [
        {
          "output_type": "stream",
          "name": "stdout",
          "text": [
            "Número de filas: 18666\n"
          ]
        }
      ]
    },
    {
      "cell_type": "markdown",
      "source": [
        "Es decir, tenemos una cantidad significativa de registros de ventas, lo que nos permite un análisis detallado sobre tendencias, estacionalidades... ya que tenemos suficiente información."
      ],
      "metadata": {
        "id": "uSqzBpKnLpt8"
      }
    },
    {
      "cell_type": "markdown",
      "source": [
        "**NÚMERO DE 'ACTUAL' Y 'AI_FORECAST'**\n",
        "\n",
        "Ahora nos interesa cuántos registros son \"actual\" y cuántos son \"AI_forecast\" en la columna 'SCENARIO', para entender la proporción entre datos reales y predicciones en la base de datos,así vemos si tenemos un equilibrio o si predominan más las predicciones sobre los datos reales (o al revés) en el análisis de ventas.\n",
        "\n",
        "Lo que hacemos es contar las veces que aparecen (por separado) \"actual\" y \"AI_forecast\" en la columna SCENARIO, y se muestra la cantidad correspondiente a cada tipo."
      ],
      "metadata": {
        "id": "tSDJD4ygV56H"
      }
    },
    {
      "cell_type": "code",
      "source": [
        "#contamos las veces que aparecen\n",
        "scenario = df['SCENARIO'].value_counts()\n",
        "\n",
        "# mostramos resultados\n",
        "actual = scenario.get('actual', 0)\n",
        "ai_forecast = scenario.get('AI_forecast', 0)\n",
        "total = actual + ai_forecast\n",
        "\n",
        "print(f\"Número de 'actual': {actual}\")\n",
        "print(f\"Número de 'AI_forecast': {ai_forecast}\")\n",
        "print(f\"Total: {total}\")\n"
      ],
      "metadata": {
        "colab": {
          "base_uri": "https://localhost:8080/"
        },
        "id": "rafwFeOSV8tl",
        "outputId": "b22c8cde-c264-4406-8972-a7c13af91ec7"
      },
      "execution_count": 3,
      "outputs": [
        {
          "output_type": "stream",
          "name": "stdout",
          "text": [
            "Número de 'actual': 900\n",
            "Número de 'AI_forecast': 17766\n",
            "Total: 18666\n"
          ]
        }
      ]
    },
    {
      "cell_type": "markdown",
      "source": [
        "Podmeos observar que en esta base de datos la mayoría de ellos son predicciones en lugar de ventas reales. Es decir, trabajaremos sobre todo con datos proyectados para analizar posibles tendencias futuras, aunque la cantidad de datos reales es limitada para hacer comparaciones."
      ],
      "metadata": {
        "id": "rIYVQGEwNbua"
      }
    },
    {
      "cell_type": "markdown",
      "source": [
        "Para verlo también de otra manera, representamos este apartado mediante porcentajes y gráficos de barra"
      ],
      "metadata": {
        "id": "yqmjln_k1bXM"
      }
    },
    {
      "cell_type": "code",
      "source": [
        "# porcentajes\n",
        "actual_porcentaje = (actual / total) * 100 if total > 0 else 0\n",
        "ai_forecast_porcentaje = (ai_forecast / total) * 100 if total > 0 else 0\n",
        "\n",
        "print(f\"Porcentaje de 'actual': {actual_porcentaje:.2f}%\")\n",
        "print(f\"Porcentaje de 'AI_forecast': {ai_forecast_porcentaje:.2f}%\")\n",
        "\n",
        "# Graficamos\n",
        "labels = ['Actual', 'AI_Forecast'] #ejes\n",
        "values = [actual, ai_forecast]\n",
        "\n",
        "plt.figure(figsize=(8, 5))\n",
        "plt.bar(labels, values, color=['blue', 'orange'])\n",
        "plt.title('Comparación Registros: Actual vs AI_Forecast')\n",
        "plt.xlabel('Tipo Dato')\n",
        "plt.ylabel('Número de Registros')\n",
        "plt.grid(axis='y', alpha=0.75)\n",
        "plt.show()"
      ],
      "metadata": {
        "id": "BJ8jFTLM1jJA",
        "outputId": "39545cee-9c4e-4a0e-d3d9-c36254d0fca0",
        "colab": {
          "base_uri": "https://localhost:8080/",
          "height": 523
        }
      },
      "execution_count": 4,
      "outputs": [
        {
          "output_type": "stream",
          "name": "stdout",
          "text": [
            "Porcentaje de 'actual': 4.82%\n",
            "Porcentaje de 'AI_forecast': 95.18%\n"
          ]
        },
        {
          "output_type": "display_data",
          "data": {
            "text/plain": [
              "<Figure size 800x500 with 1 Axes>"
            ],
            "image/png": "[encoded data removed]"
          },
          "metadata": {}
        }
      ]
    },
    {
      "cell_type": "markdown",
      "source": [
        "Podemos ver en el gráfico que solo el **4.82%** de los registros corresponden a datos **\"actual\"**, mientras que el **95.18%** son predicciones **\"AI_forecast\"**. Es decir, el análisis se basa sobre todo en estimaciones en lugar de datos reales."
      ],
      "metadata": {
        "id": "Wui16L1q3jMw"
      }
    },
    {
      "cell_type": "markdown",
      "source": [
        "**HORIZONTE DE PREDICCIÓN**\n",
        "\n",
        "\n",
        "Es el período futuro para el cual se realizan proyecciones de ventas. Es decir, hasta qué punto en el tiempo esperamos las ventas estimadas para evaluar tendencias y cambios previstos.\n",
        "\n",
        "En este caso buscamos analizar las proyecciones de ventas futuras para un producto específico en un país, empezando desde una fecha concreta. Queremos ver cómo se espera que cambien las ventas de ese producto en el futuro según las predicciones.\n",
        "\n",
        "Con esto evaluamos la consistencia y alcance de las proyecciones en nuestra base de datos, entendiendo y comprobando lo lejos que llegan las predicciones y si siguen una tendencia clara para ese producto y país.\n",
        "\n",
        "En este caso queremos ver las proyecciones futuras de \"Pepsi Max\" en España en el periodo específico \"AI_P09F\". Con lo cual, seleccionamos el país de la columna 'COUNTRY', el tipo de columna 'SCENARIO' que sabemos que estamos en pronóstico porque estamos estudiando predicciones futuras, y por último se especifica el periodo seleccionado. Contamos todos los registros cumplen todas estas condiciones para poder obtener el horizonte de predicción."
      ],
      "metadata": {
        "id": "kvRFHCcTXJtw"
      }
    },
    {
      "cell_type": "code",
      "source": [
        "pepsi = df[df['SUBBRAND'] == 'Pepsi Max (L3)']\n",
        "pepsi_spain = pepsi[pepsi['COUNTRY'] == 'Spain']\n",
        "pepsi_spain_ai_forecast = pepsi_spain[pepsi_spain['SCENARIO'] == 'AI_forecast']\n",
        "pepsi_spain_ai_forecast_P09F = pepsi_spain_ai_forecast[pepsi_spain_ai_forecast['FORECAST'] == 'AI_P09F']\n",
        "pepsi_spain_ai_forecast_P09F.count()"
      ],
      "metadata": {
        "id": "0jwcBCHyXMMy",
        "colab": {
          "base_uri": "https://localhost:8080/",
          "height": 335
        },
        "outputId": "8f1a20b0-ea25-4d33-fa1a-29111cf6e78d"
      },
      "execution_count": 9,
      "outputs": [
        {
          "output_type": "execute_result",
          "data": {
            "text/plain": [
              "COUNTRY          72\n",
              "SUBBRAND         72\n",
              "YEAR             72\n",
              "MONTH            72\n",
              "SCENARIO         72\n",
              "FORECAST         72\n",
              "FORECAST_YEAR    72\n",
              "AMOUNT           72\n",
              "dtype: int64"
            ],
            "text/html": [
              "<div>\n",
              "<style scoped>\n",
              "    .dataframe tbody tr th:only-of-type {\n",
              "        vertical-align: middle;\n",
              "    }\n",
              "\n",
              "    .dataframe tbody tr th {\n",
              "        vertical-align: top;\n",
              "    }\n",
              "\n",
              "    .dataframe thead th {\n",
              "        text-align: right;\n",
              "    }\n",
              "</style>\n",
              "<table border=\"1\" class=\"dataframe\">\n",
              "  <thead>\n",
              "    <tr style=\"text-align: right;\">\n",
              "      <th></th>\n",
              "      <th>0</th>\n",
              "    </tr>\n",
              "  </thead>\n",
              "  <tbody>\n",
              "    <tr>\n",
              "      <th>COUNTRY</th>\n",
              "      <td>72</td>\n",
              "    </tr>\n",
              "    <tr>\n",
              "      <th>SUBBRAND</th>\n",
              "      <td>72</td>\n",
              "    </tr>\n",
              "    <tr>\n",
              "      <th>YEAR</th>\n",
              "      <td>72</td>\n",
              "    </tr>\n",
              "    <tr>\n",
              "      <th>MONTH</th>\n",
              "      <td>72</td>\n",
              "    </tr>\n",
              "    <tr>\n",
              "      <th>SCENARIO</th>\n",
              "      <td>72</td>\n",
              "    </tr>\n",
              "    <tr>\n",
              "      <th>FORECAST</th>\n",
              "      <td>72</td>\n",
              "    </tr>\n",
              "    <tr>\n",
              "      <th>FORECAST_YEAR</th>\n",
              "      <td>72</td>\n",
              "    </tr>\n",
              "    <tr>\n",
              "      <th>AMOUNT</th>\n",
              "      <td>72</td>\n",
              "    </tr>\n",
              "  </tbody>\n",
              "</table>\n",
              "</div><br><label><b>dtype:</b> int64</label>"
            ]
          },
          "metadata": {},
          "execution_count": 9
        }
      ]
    },
    {
      "cell_type": "markdown",
      "source": [
        "La base de datos tiene **72 combinaciones únicas** de país, submarca, año, mes y tipo de pronóstico. Esto significa que para cada país y submarca en cada mes y año, hay un solo valor de ventas, lo que hace que sea fácil analizar las ventas para cada caso específico a lo largo del tiempo.\n",
        "\n",
        "El número depende del producto, país y período específico elegido. Si hubiésemos escogido un producto, país o período diferente, el número cambia porque no todas las combinaciones tienen la misma cantidad de datos. Cada combinación tiene sus propios registros según los datos disponibles en la base."
      ],
      "metadata": {
        "id": "OlRMbq4GQ_BF"
      }
    },
    {
      "cell_type": "markdown",
      "source": [
        "**NÚMERO DE PAÍSES Y DE PRODUCTOS**\n",
        "\n",
        "Queremos obtener la cantidad de países diferentes que aparecen en la base de datos y los productos que tenemos (sin repetir). Es decir, en cuántos países se recopilan datos de ventas y cuántas variedades de productos se analizan.\n",
        "\n",
        "Con la función 'unique' contamos los valores únicos, es decir, que no se repitan, en dichas columnas y nos devuelve los países y productos buscados."
      ],
      "metadata": {
        "id": "HoN_yVZ8XSyS"
      }
    },
    {
      "cell_type": "code",
      "source": [
        "unique_countries = df['COUNTRY'].nunique()\n",
        "unique_subbrands = df['SUBBRAND'].nunique()\n",
        "\n",
        "unique_countries, unique_subbrands"
      ],
      "metadata": {
        "colab": {
          "base_uri": "https://localhost:8080/"
        },
        "id": "xiT-TpHqYAYY",
        "outputId": "7410dc5b-e999-477b-cdac-ba6ea9da618d"
      },
      "execution_count": 11,
      "outputs": [
        {
          "output_type": "execute_result",
          "data": {
            "text/plain": [
              "(9, 6)"
            ]
          },
          "metadata": {},
          "execution_count": 11
        }
      ]
    },
    {
      "cell_type": "markdown",
      "source": [
        "Tenemos **9 países únicos** y **6 productos distintos**. Los datos de ventas abarcan 9 ubicaciones geográficas y cubren 6 variedades de productos, lo que nos permite analizar cómo se comportan las ventas en diferentes mercados y productos."
      ],
      "metadata": {
        "id": "NgV_NfWuSow0"
      }
    },
    {
      "cell_type": "markdown",
      "source": [
        "**HISTÓRICO DE ACTUALS Y FORECAST**\n",
        "\n",
        "Ahora queremos encontrar el primer y último registro de cada tipo en la columna `SCENARIO`, junto con los años en que aparecen. Esto nos dice desde qué año empiezan y hasta qué año llegan los datos reales y las predicciones. Así podemos entender el período cubierto por las ventas reales y hasta dónde alcanzan las predicciones en el tiempo, para saber si hay suficientes datos para analizar tanto el pasado como las proyecciones futuras.\n",
        "\n",
        "Lo hacemos por separado, por un lado para las proyecciones y por otro para los datos actuales. Después, localizamos la primera y la última fecha (año y mes) en que aparece cada grupo. Así sabemos desde qué fecha empiezan y hasta cuándo llegan los datos reales y las predicciones en el tiempo."
      ],
      "metadata": {
        "id": "L-FXo0GCYE24"
      }
    },
    {
      "cell_type": "code",
      "source": [
        "# AI_forecast\n",
        "forecast_df = df[df['SCENARIO'] == 'AI_forecast']\n",
        "\n",
        "# año y mes mínimo\n",
        "min_forecast_year = forecast_df['YEAR'].min()\n",
        "max_forecast_year = forecast_df['YEAR'].max()\n",
        "\n",
        "min_forecast_month = forecast_df[forecast_df['YEAR'] == min_forecast_year]['MONTH'].min()\n",
        "max_forecast_month = forecast_df[forecast_df['YEAR'] == max_forecast_year]['MONTH'].max()\n",
        "\n",
        "(min_forecast_year, min_forecast_month), (max_forecast_year, max_forecast_month)\n"
      ],
      "metadata": {
        "colab": {
          "base_uri": "https://localhost:8080/"
        },
        "id": "IG8mqFrRYMPW",
        "outputId": "ee6eb8d3-a6b8-49e8-e790-d79682e9a67f"
      },
      "execution_count": 12,
      "outputs": [
        {
          "output_type": "execute_result",
          "data": {
            "text/plain": [
              "((2023, 1), (2025, 5))"
            ]
          },
          "metadata": {},
          "execution_count": 12
        }
      ]
    },
    {
      "cell_type": "code",
      "source": [
        "# actual\n",
        "actual_df = df[df['SCENARIO'] == 'actual']  # Cambié df a data\n",
        "\n",
        "# año y mes mínimo\n",
        "min_actual_year = actual_df['YEAR'].min()\n",
        "max_actual_year = actual_df['YEAR'].max()\n",
        "\n",
        "min_actual_month = actual_df[actual_df['YEAR'] == min_actual_year]['MONTH'].min()\n",
        "max_actual_month = actual_df[actual_df['YEAR'] == max_actual_year]['MONTH'].max()\n",
        "\n",
        "(min_actual_year, min_actual_month), (max_actual_year, max_actual_month)\n"
      ],
      "metadata": {
        "colab": {
          "base_uri": "https://localhost:8080/"
        },
        "id": "mmcTtw0sc9hF",
        "outputId": "7ce6d2fb-34d8-4c8e-c00c-ce290f4f6519"
      },
      "execution_count": 13,
      "outputs": [
        {
          "output_type": "execute_result",
          "data": {
            "text/plain": [
              "((2023, 1), (2024, 8))"
            ]
          },
          "metadata": {},
          "execution_count": 13
        }
      ]
    },
    {
      "cell_type": "markdown",
      "source": [
        "Para el caso de las predicciones, el primer registro es en enero de 2023 y el último es em mayo de 2025. Es decir, las predicciones de ventas abarcan desde principios de 2023 hasta mediados de 2025, lo que nos da un rango de dos años y medio para las previsiones futuras.\n",
        "\n",
        "Para los actuales vemos que empiezan en el mismo mes que las predicciones, pero cubren hasta un año y medio, terminando en agosto de 2024. Hay una buena cantidad de datos actuales en un rango más corto en comparación con las predicciones, que se extienden más allá del periodo de los datos reales."
      ],
      "metadata": {
        "id": "mwwGsiNIU2wr"
      }
    },
    {
      "cell_type": "markdown",
      "source": [
        "**CUÁNTOS FORECAST (teniendo en cuenta el año)**\n",
        "\n",
        "Este caso se refiere a cuántos tipos diferentes de pronósticos hay en la base de datos, pero solo contando cada tipo de pronóstico una vez por año.\n",
        "Es decir, si un pronóstico específico aparece en varios años, solo se cuenta una vez por cada año en el que aparece. Con esto vemos cuántas variantes de pronósticos se han utilizado a lo largo de los años y cómo se distribuyen en el tiempo."
      ],
      "metadata": {
        "id": "YxxRHdHgYJIJ"
      }
    },
    {
      "cell_type": "code",
      "source": [
        "unique_forecast = df['FORECAST'].nunique()\n",
        "print(\"Número de valores únicos en la columna FORECAST:\", unique_forecast)"
      ],
      "metadata": {
        "colab": {
          "base_uri": "https://localhost:8080/"
        },
        "id": "ruGThC5adTgU",
        "outputId": "33f230a8-d1c7-432e-82d3-b5aec7f55389"
      },
      "execution_count": 14,
      "outputs": [
        {
          "output_type": "stream",
          "name": "stdout",
          "text": [
            "Número de valores únicos en la columna FORECAST: 12\n"
          ]
        }
      ]
    },
    {
      "cell_type": "markdown",
      "source": [
        "Se han utilizado 12 tipos diferentes de pronósticos en la base de datos para estimar las ventas. Lo que nos indica que a lo largo del tiempo, se han aplicado varias técnicas para hacer estas predicciones.\n",
        "\n",
        "Tener 12 pronósticos distintos nos permite comparar cómo cada modelo se desempeña en diferentes situaciones y períodos, de cara a ver qué métodos son más efectivos y confiables para prever ventas."
      ],
      "metadata": {
        "id": "Zz1R75MBWBFV"
      }
    },
    {
      "cell_type": "markdown",
      "source": [
        "**DISTRIBUCIÓN DE VENTAS REALIZADAS**\n",
        "\n",
        "En este apartado queremos analizar cómo se reparten las ventas efectivas (la cantidad de ventas que realmente se concretaron) en la base de datos. Es decir, examinar los datos para ver cuántas ventas se hicieron, en qué cantidades, y cómo se distribuyen en diferentes categorías, como países, productos o períodos de tiempo (por ejemplo, meses y años).\n",
        "\n",
        "Nuestro objetivo es entender mejor los patrones de venta: por ejemplo, identificar qué productos se venden más, cuáles países tienen más ventas y si hay variaciones estacionales (como más ventas en ciertas épocas del año)."
      ],
      "metadata": {
        "id": "D_Q7qzcNG7ue"
      }
    },
    {
      "cell_type": "markdown",
      "source": [
        "**HISTOGRAMA**"
      ],
      "metadata": {
        "id": "gM_mrnPUXzjl"
      }
    },
    {
      "cell_type": "code",
      "source": [
        "if 'AMOUNT' in df.columns:\n",
        "    # Graficamos la distribución\n",
        "    plt.figure(figsize=(10, 6))\n",
        "    plt.hist(df['AMOUNT'], bins=30, edgecolor='black')\n",
        "    plt.title('Distribución Ventas Realizadas')\n",
        "    plt.xlabel('Cantidad Ventas')\n",
        "    plt.ylabel('Frecuencia')\n",
        "    plt.show()\n",
        "else:\n",
        "    print(\"La columna 'AMOUNT' no está en la base de datos.\")"
      ],
      "metadata": {
        "colab": {
          "base_uri": "https://localhost:8080/",
          "height": 564
        },
        "id": "vIXxlRNlHCzC",
        "outputId": "561b8862-c5ce-4730-c111-676b36ec309d"
      },
      "execution_count": 15,
      "outputs": [
        {
          "output_type": "display_data",
          "data": {
            "text/plain": [
              "<Figure size 1000x600 with 1 Axes>"
            ],
            "image/png": "[encoded data removed]"
          },
          "metadata": {}
        }
      ]
    },
    {
      "cell_type": "markdown",
      "source": [
        "La mayoría de las ventas se concentran en cantidades cercanos a cero, con más de 8,000 registros en el primer rango. Esto nos indica que muchos productos tienen ventas bajas o que un gran número de transacciones son de bajo valor.\n",
        "\n",
        "Pocemos ver que a medida que avanzamos hacia cantidades más altos, la frecuencia de ventas disminuye drásticamente. Es decir, las ventas más elevadas son menos comunes, lo que es típico en muchos contextos comerciales, donde unos pocos productos pueden generar ingresos significativos mientras que muchos otros tienen ventas mínimas.\n",
        "\n",
        "Aunque la mayoría de las ventas son bajas, hay algunas ventas que alcanzan hasta los 10 millones, como se puede comprobar en las últimas barras. Porque hay productos que pueden tener un impacto significativo en las ventas totales.\n",
        "\n",
        "Con este histograma tenemos visión clara de cómo se distribuyen las ventas en la base de datos, ayudando a identificar tanto los productos de bajo rendimiento como aquellos que tienen un gran potencial de ingresos."
      ],
      "metadata": {
        "id": "Rui9arNmgbNe"
      }
    },
    {
      "cell_type": "markdown",
      "source": [
        "**GRÁFICO VENTAS POR MES**"
      ],
      "metadata": {
        "id": "QbbJ58JQ6SXZ"
      }
    },
    {
      "cell_type": "code",
      "source": [
        "df['MONTH'] = df['MONTH'].astype(int)\n",
        "\n",
        "# nueva columna fecha DATE\n",
        "df['DATE'] = pd.to_datetime(df['YEAR'].astype(str) + '-' + df['MONTH'].astype(str))\n",
        "\n",
        "ventas_por_mes = df.groupby(df['DATE'].dt.to_period('M'))['AMOUNT'].sum().reset_index()\n",
        "ventas_por_mes['DATE'] = ventas_por_mes['DATE'].dt.to_timestamp(freq = 'M')\n",
        "ventas_por_mes['DATE_Y_M'] = ventas_por_mes['DATE'].dt.strftime('%Y-%m')\n",
        "\n",
        "\n",
        "# representamos\n",
        "plt.figure(figsize=(12, 6))\n",
        "plt.bar(ventas_por_mes['DATE'], ventas_por_mes['AMOUNT'], color='skyblue')\n",
        "plt.title('Ventas Totales por Mes')\n",
        "plt.xlabel('Mes')\n",
        "plt.ylabel('Total Ventas')\n",
        "plt.xticks(rotation=45)\n",
        "plt.grid(axis='y', alpha=0.75)\n",
        "plt.show()"
      ],
      "metadata": {
        "colab": {
          "base_uri": "https://localhost:8080/",
          "height": 601
        },
        "id": "3q2eumVF6VGy",
        "outputId": "3bd8a289-03e4-46c1-9e4c-7323f92d277a"
      },
      "execution_count": 16,
      "outputs": [
        {
          "output_type": "display_data",
          "data": {
            "text/plain": [
              "<Figure size 1200x600 with 1 Axes>"
            ],
            "image/png": "[encoded data removed]"
          },
          "metadata": {}
        }
      ]
    },
    {
      "cell_type": "markdown",
      "source": [
        "Podemos notar una tendencia en forma de campana, con un incremento gradual en las ventas a lo largo de los primeros meses, llegando un pico más o menos a mediados de 2024, y luego una disminución lenta hacia mediados de 2025.\n",
        "\n",
        "Esto nos indica que las ventas tuvieron un fuerte impulso en la mitad del periodo y luego comenzaron a decaer."
      ],
      "metadata": {
        "id": "n2tI1ZBYHCKx"
      }
    },
    {
      "cell_type": "code",
      "source": [
        "ventas_por_mes[['DATE_Y_M', 'AMOUNT']]"
      ],
      "metadata": {
        "colab": {
          "base_uri": "https://localhost:8080/",
          "height": 958
        },
        "id": "EsEAFcckEc2W",
        "outputId": "d3e3d88c-7d31-420d-b01f-4c26da2ecb00"
      },
      "execution_count": 17,
      "outputs": [
        {
          "output_type": "execute_result",
          "data": {
            "text/plain": [
              "   DATE_Y_M        AMOUNT\n",
              "0   2023-01  9.310165e+07\n",
              "1   2023-02  1.612275e+08\n",
              "2   2023-03  2.696923e+08\n",
              "3   2023-04  3.353694e+08\n",
              "4   2023-05  4.550054e+08\n",
              "5   2023-06  5.304364e+08\n",
              "6   2023-07  6.288473e+08\n",
              "7   2023-08  7.474676e+08\n",
              "8   2023-09  7.679450e+08\n",
              "9   2023-10  7.890140e+08\n",
              "10  2023-11  9.085069e+08\n",
              "11  2023-12  1.049411e+09\n",
              "12  2024-01  8.448844e+08\n",
              "13  2024-02  8.408047e+08\n",
              "14  2024-03  1.009033e+09\n",
              "15  2024-04  9.872097e+08\n",
              "16  2024-05  1.065666e+09\n",
              "17  2024-06  1.057691e+09\n",
              "18  2024-07  9.981979e+08\n",
              "19  2024-08  9.357902e+08\n",
              "20  2024-09  7.411355e+08\n",
              "21  2024-10  6.168697e+08\n",
              "22  2024-11  5.632671e+08\n",
              "23  2024-12  5.262705e+08\n",
              "24  2025-01  3.783377e+08\n",
              "25  2025-02  2.977278e+08\n",
              "26  2025-03  2.746941e+08\n",
              "27  2025-04  1.780384e+08\n",
              "28  2025-05  9.511169e+07"
            ],
            "text/html": [
              "\n",
              "  <div id=\"df-0176adbb-d8cd-4a6d-8dc8-498ff5e05517\" class=\"colab-df-container\">\n",
              "    <div>\n",
              "<style scoped>\n",
              "    .dataframe tbody tr th:only-of-type {\n",
              "        vertical-align: middle;\n",
              "    }\n",
              "\n",
              "    .dataframe tbody tr th {\n",
              "        vertical-align: top;\n",
              "    }\n",
              "\n",
              "    .dataframe thead th {\n",
              "        text-align: right;\n",
              "    }\n",
              "</style>\n",
              "<table border=\"1\" class=\"dataframe\">\n",
              "  <thead>\n",
              "    <tr style=\"text-align: right;\">\n",
              "      <th></th>\n",
              "      <th>DATE_Y_M</th>\n",
              "      <th>AMOUNT</th>\n",
              "    </tr>\n",
              "  </thead>\n",
              "  <tbody>\n",
              "    <tr>\n",
              "      <th>0</th>\n",
              "      <td>2023-01</td>\n",
              "      <td>9.310165e+07</td>\n",
              "    </tr>\n",
              "    <tr>\n",
              "      <th>1</th>\n",
              "      <td>2023-02</td>\n",
              "      <td>1.612275e+08</td>\n",
              "    </tr>\n",
              "    <tr>\n",
              "      <th>2</th>\n",
              "      <td>2023-03</td>\n",
              "      <td>2.696923e+08</td>\n",
              "    </tr>\n",
              "    <tr>\n",
              "      <th>3</th>\n",
              "      <td>2023-04</td>\n",
              "      <td>3.353694e+08</td>\n",
              "    </tr>\n",
              "    <tr>\n",
              "      <th>4</th>\n",
              "      <td>2023-05</td>\n",
              "      <td>4.550054e+08</td>\n",
              "    </tr>\n",
              "    <tr>\n",
              "      <th>5</th>\n",
              "      <td>2023-06</td>\n",
              "      <td>5.304364e+08</td>\n",
              "    </tr>\n",
              "    <tr>\n",
              "      <th>6</th>\n",
              "      <td>2023-07</td>\n",
              "      <td>6.288473e+08</td>\n",
              "    </tr>\n",
              "    <tr>\n",
              "      <th>7</th>\n",
              "      <td>2023-08</td>\n",
              "      <td>7.474676e+08</td>\n",
              "    </tr>\n",
              "    <tr>\n",
              "      <th>8</th>\n",
              "      <td>2023-09</td>\n",
              "      <td>7.679450e+08</td>\n",
              "    </tr>\n",
              "    <tr>\n",
              "      <th>9</th>\n",
              "      <td>2023-10</td>\n",
              "      <td>7.890140e+08</td>\n",
              "    </tr>\n",
              "    <tr>\n",
              "      <th>10</th>\n",
              "      <td>2023-11</td>\n",
              "      <td>9.085069e+08</td>\n",
              "    </tr>\n",
              "    <tr>\n",
              "      <th>11</th>\n",
              "      <td>2023-12</td>\n",
              "      <td>1.049411e+09</td>\n",
              "    </tr>\n",
              "    <tr>\n",
              "      <th>12</th>\n",
              "      <td>2024-01</td>\n",
              "      <td>8.448844e+08</td>\n",
              "    </tr>\n",
              "    <tr>\n",
              "      <th>13</th>\n",
              "      <td>2024-02</td>\n",
              "      <td>8.408047e+08</td>\n",
              "    </tr>\n",
              "    <tr>\n",
              "      <th>14</th>\n",
              "      <td>2024-03</td>\n",
              "      <td>1.009033e+09</td>\n",
              "    </tr>\n",
              "    <tr>\n",
              "      <th>15</th>\n",
              "      <td>2024-04</td>\n",
              "      <td>9.872097e+08</td>\n",
              "    </tr>\n",
              "    <tr>\n",
              "      <th>16</th>\n",
              "      <td>2024-05</td>\n",
              "      <td>1.065666e+09</td>\n",
              "    </tr>\n",
              "    <tr>\n",
              "      <th>17</th>\n",
              "      <td>2024-06</td>\n",
              "      <td>1.057691e+09</td>\n",
              "    </tr>\n",
              "    <tr>\n",
              "      <th>18</th>\n",
              "      <td>2024-07</td>\n",
              "      <td>9.981979e+08</td>\n",
              "    </tr>\n",
              "    <tr>\n",
              "      <th>19</th>\n",
              "      <td>2024-08</td>\n",
              "      <td>9.357902e+08</td>\n",
              "    </tr>\n",
              "    <tr>\n",
              "      <th>20</th>\n",
              "      <td>2024-09</td>\n",
              "      <td>7.411355e+08</td>\n",
              "    </tr>\n",
              "    <tr>\n",
              "      <th>21</th>\n",
              "      <td>2024-10</td>\n",
              "      <td>6.168697e+08</td>\n",
              "    </tr>\n",
              "    <tr>\n",
              "      <th>22</th>\n",
              "      <td>2024-11</td>\n",
              "      <td>5.632671e+08</td>\n",
              "    </tr>\n",
              "    <tr>\n",
              "      <th>23</th>\n",
              "      <td>2024-12</td>\n",
              "      <td>5.262705e+08</td>\n",
              "    </tr>\n",
              "    <tr>\n",
              "      <th>24</th>\n",
              "      <td>2025-01</td>\n",
              "      <td>3.783377e+08</td>\n",
              "    </tr>\n",
              "    <tr>\n",
              "      <th>25</th>\n",
              "      <td>2025-02</td>\n",
              "      <td>2.977278e+08</td>\n",
              "    </tr>\n",
              "    <tr>\n",
              "      <th>26</th>\n",
              "      <td>2025-03</td>\n",
              "      <td>2.746941e+08</td>\n",
              "    </tr>\n",
              "    <tr>\n",
              "      <th>27</th>\n",
              "      <td>2025-04</td>\n",
              "      <td>1.780384e+08</td>\n",
              "    </tr>\n",
              "    <tr>\n",
              "      <th>28</th>\n",
              "      <td>2025-05</td>\n",
              "      <td>9.511169e+07</td>\n",
              "    </tr>\n",
              "  </tbody>\n",
              "</table>\n",
              "</div>\n",
              "    <div class=\"colab-df-buttons\">\n",
              "\n",
              "  <div class=\"colab-df-container\">\n",
              "    <button class=\"colab-df-convert\" onclick=\"convertToInteractive('df-0176adbb-d8cd-4a6d-8dc8-498ff5e05517')\"\n",
              "            title=\"Convert this dataframe to an interactive table.\"\n",
              "            style=\"display:none;\">\n",
              "\n",
              "  <svg xmlns=\"http://www.w3.org/2000/svg\" height=\"24px\" viewBox=\"0 -960 960 960\">\n",
              "    <path d=\"M120-120v-720h720v720H120Zm60-500h600v-160H180v160Zm220 220h160v-160H400v160Zm0 220h160v-160H400v160ZM180-400h160v-160H180v160Zm440 0h160v-160H620v160ZM180-180h160v-160H180v160Zm440 0h160v-160H620v160Z\"/>\n",
              "  </svg>\n",
              "    </button>\n",
              "\n",
              "  <style>\n",
              "    .colab-df-container {\n",
              "      display:flex;\n",
              "      gap: 12px;\n",
              "    }\n",
              "\n",
              "    .colab-df-convert {\n",
              "      background-color: #E8F0FE;\n",
              "      border: none;\n",
              "      border-radius: 50%;\n",
              "      cursor: pointer;\n",
              "      display: none;\n",
              "      fill: #1967D2;\n",
              "      height: 32px;\n",
              "      padding: 0 0 0 0;\n",
              "      width: 32px;\n",
              "    }\n",
              "\n",
              "    .colab-df-convert:hover {\n",
              "      background-color: #E2EBFA;\n",
              "      box-shadow: 0px 1px 2px rgba(60, 64, 67, 0.3), 0px 1px 3px 1px rgba(60, 64, 67, 0.15);\n",
              "      fill: #174EA6;\n",
              "    }\n",
              "\n",
              "    .colab-df-buttons div {\n",
              "      margin-bottom: 4px;\n",
              "    }\n",
              "\n",
              "    [theme=dark] .colab-df-convert {\n",
              "      background-color: #3B4455;\n",
              "      fill: #D2E3FC;\n",
              "    }\n",
              "\n",
              "    [theme=dark] .colab-df-convert:hover {\n",
              "      background-color: #434B5C;\n",
              "      box-shadow: 0px 1px 3px 1px rgba(0, 0, 0, 0.15);\n",
              "      filter: drop-shadow(0px 1px 2px rgba(0, 0, 0, 0.3));\n",
              "      fill: #FFFFFF;\n",
              "    }\n",
              "  </style>\n",
              "\n",
              "    <script>\n",
              "      const buttonEl =\n",
              "        document.querySelector('#df-0176adbb-d8cd-4a6d-8dc8-498ff5e05517 button.colab-df-convert');\n",
              "      buttonEl.style.display =\n",
              "        google.colab.kernel.accessAllowed ? 'block' : 'none';\n",
              "\n",
              "      async function convertToInteractive(key) {\n",
              "        const element = document.querySelector('#df-0176adbb-d8cd-4a6d-8dc8-498ff5e05517');\n",
              "        const dataTable =\n",
              "          await google.colab.kernel.invokeFunction('convertToInteractive',\n",
              "                                                    [key], {});\n",
              "        if (!dataTable) return;\n",
              "\n",
              "        const docLinkHtml = 'Like what you see? Visit the ' +\n",
              "          '<a target=\"_blank\" href=https://colab.research.google.com/notebooks/data_table.ipynb>data table notebook</a>'\n",
              "          + ' to learn more about interactive tables.';\n",
              "        element.innerHTML = '';\n",
              "        dataTable['output_type'] = 'display_data';\n",
              "        await google.colab.output.renderOutput(dataTable, element);\n",
              "        const docLink = document.createElement('div');\n",
              "        docLink.innerHTML = docLinkHtml;\n",
              "        element.appendChild(docLink);\n",
              "      }\n",
              "    </script>\n",
              "  </div>\n",
              "\n",
              "\n",
              "<div id=\"df-c003181a-3f8a-4906-860b-5db6a6f084f0\">\n",
              "  <button class=\"colab-df-quickchart\" onclick=\"quickchart('df-c003181a-3f8a-4906-860b-5db6a6f084f0')\"\n",
              "            title=\"Suggest charts\"\n",
              "            style=\"display:none;\">\n",
              "\n",
              "<svg xmlns=\"http://www.w3.org/2000/svg\" height=\"24px\"viewBox=\"0 0 24 24\"\n",
              "     width=\"24px\">\n",
              "    <g>\n",
              "        <path d=\"M19 3H5c-1.1 0-2 .9-2 2v14c0 1.1.9 2 2 2h14c1.1 0 2-.9 2-2V5c0-1.1-.9-2-2-2zM9 17H7v-7h2v7zm4 0h-2V7h2v10zm4 0h-2v-4h2v4z\"/>\n",
              "    </g>\n",
              "</svg>\n",
              "  </button>\n",
              "\n",
              "<style>\n",
              "  .colab-df-quickchart {\n",
              "      --bg-color: #E8F0FE;\n",
              "      --fill-color: #1967D2;\n",
              "      --hover-bg-color: #E2EBFA;\n",
              "      --hover-fill-color: #174EA6;\n",
              "      --disabled-fill-color: #AAA;\n",
              "      --disabled-bg-color: #DDD;\n",
              "  }\n",
              "\n",
              "  [theme=dark] .colab-df-quickchart {\n",
              "      --bg-color: #3B4455;\n",
              "      --fill-color: #D2E3FC;\n",
              "      --hover-bg-color: #434B5C;\n",
              "      --hover-fill-color: #FFFFFF;\n",
              "      --disabled-bg-color: #3B4455;\n",
              "      --disabled-fill-color: #666;\n",
              "  }\n",
              "\n",
              "  .colab-df-quickchart {\n",
              "    background-color: var(--bg-color);\n",
              "    border: none;\n",
              "    border-radius: 50%;\n",
              "    cursor: pointer;\n",
              "    display: none;\n",
              "    fill: var(--fill-color);\n",
              "    height: 32px;\n",
              "    padding: 0;\n",
              "    width: 32px;\n",
              "  }\n",
              "\n",
              "  .colab-df-quickchart:hover {\n",
              "    background-color: var(--hover-bg-color);\n",
              "    box-shadow: 0 1px 2px rgba(60, 64, 67, 0.3), 0 1px 3px 1px rgba(60, 64, 67, 0.15);\n",
              "    fill: var(--button-hover-fill-color);\n",
              "  }\n",
              "\n",
              "  .colab-df-quickchart-complete:disabled,\n",
              "  .colab-df-quickchart-complete:disabled:hover {\n",
              "    background-color: var(--disabled-bg-color);\n",
              "    fill: var(--disabled-fill-color);\n",
              "    box-shadow: none;\n",
              "  }\n",
              "\n",
              "  .colab-df-spinner {\n",
              "    border: 2px solid var(--fill-color);\n",
              "    border-color: transparent;\n",
              "    border-bottom-color: var(--fill-color);\n",
              "    animation:\n",
              "      spin 1s steps(1) infinite;\n",
              "  }\n",
              "\n",
              "  @keyframes spin {\n",
              "    0% {\n",
              "      border-color: transparent;\n",
              "      border-bottom-color: var(--fill-color);\n",
              "      border-left-color: var(--fill-color);\n",
              "    }\n",
              "    20% {\n",
              "      border-color: transparent;\n",
              "      border-left-color: var(--fill-color);\n",
              "      border-top-color: var(--fill-color);\n",
              "    }\n",
              "    30% {\n",
              "      border-color: transparent;\n",
              "      border-left-color: var(--fill-color);\n",
              "      border-top-color: var(--fill-color);\n",
              "      border-right-color: var(--fill-color);\n",
              "    }\n",
              "    40% {\n",
              "      border-color: transparent;\n",
              "      border-right-color: var(--fill-color);\n",
              "      border-top-color: var(--fill-color);\n",
              "    }\n",
              "    60% {\n",
              "      border-color: transparent;\n",
              "      border-right-color: var(--fill-color);\n",
              "    }\n",
              "    80% {\n",
              "      border-color: transparent;\n",
              "      border-right-color: var(--fill-color);\n",
              "      border-bottom-color: var(--fill-color);\n",
              "    }\n",
              "    90% {\n",
              "      border-color: transparent;\n",
              "      border-bottom-color: var(--fill-color);\n",
              "    }\n",
              "  }\n",
              "</style>\n",
              "\n",
              "  <script>\n",
              "    async function quickchart(key) {\n",
              "      const quickchartButtonEl =\n",
              "        document.querySelector('#' + key + ' button');\n",
              "      quickchartButtonEl.disabled = true;  // To prevent multiple clicks.\n",
              "      quickchartButtonEl.classList.add('colab-df-spinner');\n",
              "      try {\n",
              "        const charts = await google.colab.kernel.invokeFunction(\n",
              "            'suggestCharts', [key], {});\n",
              "      } catch (error) {\n",
              "        console.error('Error during call to suggestCharts:', error);\n",
              "      }\n",
              "      quickchartButtonEl.classList.remove('colab-df-spinner');\n",
              "      quickchartButtonEl.classList.add('colab-df-quickchart-complete');\n",
              "    }\n",
              "    (() => {\n",
              "      let quickchartButtonEl =\n",
              "        document.querySelector('#df-c003181a-3f8a-4906-860b-5db6a6f084f0 button');\n",
              "      quickchartButtonEl.style.display =\n",
              "        google.colab.kernel.accessAllowed ? 'block' : 'none';\n",
              "    })();\n",
              "  </script>\n",
              "</div>\n",
              "\n",
              "    </div>\n",
              "  </div>\n"
            ],
            "application/vnd.google.colaboratory.intrinsic+json": {
              "type": "dataframe",
              "summary": "{\n  \"name\": \"ventas_por_mes[['DATE_Y_M', 'AMOUNT']]\",\n  \"rows\": 29,\n  \"fields\": [\n    {\n      \"column\": \"DATE_Y_M\",\n      \"properties\": {\n        \"dtype\": \"object\",\n        \"num_unique_values\": 29,\n        \"samples\": [\n          \"2025-04\",\n          \"2024-05\",\n          \"2024-01\"\n        ],\n        \"semantic_type\": \"\",\n        \"description\": \"\"\n      }\n    },\n    {\n      \"column\": \"AMOUNT\",\n      \"properties\": {\n        \"dtype\": \"number\",\n        \"std\": 319486608.3153648,\n        \"min\": 93101645.85271586,\n        \"max\": 1065666215.0307004,\n        \"num_unique_values\": 29,\n        \"samples\": [\n          178038379.15632707,\n          1065666215.0307004,\n          844884397.8352987\n        ],\n        \"semantic_type\": \"\",\n        \"description\": \"\"\n      }\n    }\n  ]\n}"
            }
          },
          "metadata": {},
          "execution_count": 17
        }
      ]
    },
    {
      "cell_type": "markdown",
      "source": [
        "**GRÁFICO BARRAS POR PAÍS**\n",
        "\n",
        "\n",
        "Agrupamos las ventas por país y las sumamos (rotamos el eje x para una mejor visualización)\n"
      ],
      "metadata": {
        "id": "rzxZObS5Xtb-"
      }
    },
    {
      "cell_type": "code",
      "source": [
        "ventas_pais = df.groupby('COUNTRY')['AMOUNT'].sum().reset_index()\n",
        "\n",
        "#gráfico\n",
        "plt.figure(figsize=(12, 6))\n",
        "plt.bar(ventas_pais['COUNTRY'], ventas_pais['AMOUNT'], color='skyblue')\n",
        "plt.title('Ventas totales por País')\n",
        "plt.xlabel('País')\n",
        "plt.ylabel('Total ventas')\n",
        "plt.xticks(rotation=45)\n",
        "plt.grid(axis='y', alpha=0.75)\n",
        "plt.show()"
      ],
      "metadata": {
        "colab": {
          "base_uri": "https://localhost:8080/",
          "height": 624
        },
        "id": "evuIeRblXWFU",
        "outputId": "7cdd43c7-f3a9-4485-a5ea-18c29e99ca1a"
      },
      "execution_count": 18,
      "outputs": [
        {
          "output_type": "display_data",
          "data": {
            "text/plain": [
              "<Figure size 1200x600 with 1 Axes>"
            ],
            "image/png": "[encoded data removed]"
          },
          "metadata": {}
        }
      ]
    },
    {
      "cell_type": "code",
      "source": [
        "ventas_pais"
      ],
      "metadata": {
        "colab": {
          "base_uri": "https://localhost:8080/",
          "height": 331
        },
        "id": "L5aq1M9txQZk",
        "outputId": "ba8e01f4-107f-413f-92be-9e7f2c5850ce"
      },
      "execution_count": 19,
      "outputs": [
        {
          "output_type": "execute_result",
          "data": {
            "text/plain": [
              "         COUNTRY        AMOUNT\n",
              "0          Czech  6.384946e+08\n",
              "1        Denmark  3.173959e+09\n",
              "2  Great Britain  8.427775e+09\n",
              "3        Hungary  1.104465e+09\n",
              "4          Italy  5.058963e+08\n",
              "5    Netherlands  1.831524e+09\n",
              "6         Norway  1.858965e+09\n",
              "7       Portugal  3.871816e+08\n",
              "8          Spain  2.184936e+08"
            ],
            "text/html": [
              "\n",
              "  <div id=\"df-f00c9b6e-fadf-4cfd-9ba1-4f85d706435c\" class=\"colab-df-container\">\n",
              "    <div>\n",
              "<style scoped>\n",
              "    .dataframe tbody tr th:only-of-type {\n",
              "        vertical-align: middle;\n",
              "    }\n",
              "\n",
              "    .dataframe tbody tr th {\n",
              "        vertical-align: top;\n",
              "    }\n",
              "\n",
              "    .dataframe thead th {\n",
              "        text-align: right;\n",
              "    }\n",
              "</style>\n",
              "<table border=\"1\" class=\"dataframe\">\n",
              "  <thead>\n",
              "    <tr style=\"text-align: right;\">\n",
              "      <th></th>\n",
              "      <th>COUNTRY</th>\n",
              "      <th>AMOUNT</th>\n",
              "    </tr>\n",
              "  </thead>\n",
              "  <tbody>\n",
              "    <tr>\n",
              "      <th>0</th>\n",
              "      <td>Czech</td>\n",
              "      <td>6.384946e+08</td>\n",
              "    </tr>\n",
              "    <tr>\n",
              "      <th>1</th>\n",
              "      <td>Denmark</td>\n",
              "      <td>3.173959e+09</td>\n",
              "    </tr>\n",
              "    <tr>\n",
              "      <th>2</th>\n",
              "      <td>Great Britain</td>\n",
              "      <td>8.427775e+09</td>\n",
              "    </tr>\n",
              "    <tr>\n",
              "      <th>3</th>\n",
              "      <td>Hungary</td>\n",
              "      <td>1.104465e+09</td>\n",
              "    </tr>\n",
              "    <tr>\n",
              "      <th>4</th>\n",
              "      <td>Italy</td>\n",
              "      <td>5.058963e+08</td>\n",
              "    </tr>\n",
              "    <tr>\n",
              "      <th>5</th>\n",
              "      <td>Netherlands</td>\n",
              "      <td>1.831524e+09</td>\n",
              "    </tr>\n",
              "    <tr>\n",
              "      <th>6</th>\n",
              "      <td>Norway</td>\n",
              "      <td>1.858965e+09</td>\n",
              "    </tr>\n",
              "    <tr>\n",
              "      <th>7</th>\n",
              "      <td>Portugal</td>\n",
              "      <td>3.871816e+08</td>\n",
              "    </tr>\n",
              "    <tr>\n",
              "      <th>8</th>\n",
              "      <td>Spain</td>\n",
              "      <td>2.184936e+08</td>\n",
              "    </tr>\n",
              "  </tbody>\n",
              "</table>\n",
              "</div>\n",
              "    <div class=\"colab-df-buttons\">\n",
              "\n",
              "  <div class=\"colab-df-container\">\n",
              "    <button class=\"colab-df-convert\" onclick=\"convertToInteractive('df-f00c9b6e-fadf-4cfd-9ba1-4f85d706435c')\"\n",
              "            title=\"Convert this dataframe to an interactive table.\"\n",
              "            style=\"display:none;\">\n",
              "\n",
              "  <svg xmlns=\"http://www.w3.org/2000/svg\" height=\"24px\" viewBox=\"0 -960 960 960\">\n",
              "    <path d=\"M120-120v-720h720v720H120Zm60-500h600v-160H180v160Zm220 220h160v-160H400v160Zm0 220h160v-160H400v160ZM180-400h160v-160H180v160Zm440 0h160v-160H620v160ZM180-180h160v-160H180v160Zm440 0h160v-160H620v160Z\"/>\n",
              "  </svg>\n",
              "    </button>\n",
              "\n",
              "  <style>\n",
              "    .colab-df-container {\n",
              "      display:flex;\n",
              "      gap: 12px;\n",
              "    }\n",
              "\n",
              "    .colab-df-convert {\n",
              "      background-color: #E8F0FE;\n",
              "      border: none;\n",
              "      border-radius: 50%;\n",
              "      cursor: pointer;\n",
              "      display: none;\n",
              "      fill: #1967D2;\n",
              "      height: 32px;\n",
              "      padding: 0 0 0 0;\n",
              "      width: 32px;\n",
              "    }\n",
              "\n",
              "    .colab-df-convert:hover {\n",
              "      background-color: #E2EBFA;\n",
              "      box-shadow: 0px 1px 2px rgba(60, 64, 67, 0.3), 0px 1px 3px 1px rgba(60, 64, 67, 0.15);\n",
              "      fill: #174EA6;\n",
              "    }\n",
              "\n",
              "    .colab-df-buttons div {\n",
              "      margin-bottom: 4px;\n",
              "    }\n",
              "\n",
              "    [theme=dark] .colab-df-convert {\n",
              "      background-color: #3B4455;\n",
              "      fill: #D2E3FC;\n",
              "    }\n",
              "\n",
              "    [theme=dark] .colab-df-convert:hover {\n",
              "      background-color: #434B5C;\n",
              "      box-shadow: 0px 1px 3px 1px rgba(0, 0, 0, 0.15);\n",
              "      filter: drop-shadow(0px 1px 2px rgba(0, 0, 0, 0.3));\n",
              "      fill: #FFFFFF;\n",
              "    }\n",
              "  </style>\n",
              "\n",
              "    <script>\n",
              "      const buttonEl =\n",
              "        document.querySelector('#df-f00c9b6e-fadf-4cfd-9ba1-4f85d706435c button.colab-df-convert');\n",
              "      buttonEl.style.display =\n",
              "        google.colab.kernel.accessAllowed ? 'block' : 'none';\n",
              "\n",
              "      async function convertToInteractive(key) {\n",
              "        const element = document.querySelector('#df-f00c9b6e-fadf-4cfd-9ba1-4f85d706435c');\n",
              "        const dataTable =\n",
              "          await google.colab.kernel.invokeFunction('convertToInteractive',\n",
              "                                                    [key], {});\n",
              "        if (!dataTable) return;\n",
              "\n",
              "        const docLinkHtml = 'Like what you see? Visit the ' +\n",
              "          '<a target=\"_blank\" href=https://colab.research.google.com/notebooks/data_table.ipynb>data table notebook</a>'\n",
              "          + ' to learn more about interactive tables.';\n",
              "        element.innerHTML = '';\n",
              "        dataTable['output_type'] = 'display_data';\n",
              "        await google.colab.output.renderOutput(dataTable, element);\n",
              "        const docLink = document.createElement('div');\n",
              "        docLink.innerHTML = docLinkHtml;\n",
              "        element.appendChild(docLink);\n",
              "      }\n",
              "    </script>\n",
              "  </div>\n",
              "\n",
              "\n",
              "<div id=\"df-8e01baa4-4d87-49a8-ab70-abb100c8c491\">\n",
              "  <button class=\"colab-df-quickchart\" onclick=\"quickchart('df-8e01baa4-4d87-49a8-ab70-abb100c8c491')\"\n",
              "            title=\"Suggest charts\"\n",
              "            style=\"display:none;\">\n",
              "\n",
              "<svg xmlns=\"http://www.w3.org/2000/svg\" height=\"24px\"viewBox=\"0 0 24 24\"\n",
              "     width=\"24px\">\n",
              "    <g>\n",
              "        <path d=\"M19 3H5c-1.1 0-2 .9-2 2v14c0 1.1.9 2 2 2h14c1.1 0 2-.9 2-2V5c0-1.1-.9-2-2-2zM9 17H7v-7h2v7zm4 0h-2V7h2v10zm4 0h-2v-4h2v4z\"/>\n",
              "    </g>\n",
              "</svg>\n",
              "  </button>\n",
              "\n",
              "<style>\n",
              "  .colab-df-quickchart {\n",
              "      --bg-color: #E8F0FE;\n",
              "      --fill-color: #1967D2;\n",
              "      --hover-bg-color: #E2EBFA;\n",
              "      --hover-fill-color: #174EA6;\n",
              "      --disabled-fill-color: #AAA;\n",
              "      --disabled-bg-color: #DDD;\n",
              "  }\n",
              "\n",
              "  [theme=dark] .colab-df-quickchart {\n",
              "      --bg-color: #3B4455;\n",
              "      --fill-color: #D2E3FC;\n",
              "      --hover-bg-color: #434B5C;\n",
              "      --hover-fill-color: #FFFFFF;\n",
              "      --disabled-bg-color: #3B4455;\n",
              "      --disabled-fill-color: #666;\n",
              "  }\n",
              "\n",
              "  .colab-df-quickchart {\n",
              "    background-color: var(--bg-color);\n",
              "    border: none;\n",
              "    border-radius: 50%;\n",
              "    cursor: pointer;\n",
              "    display: none;\n",
              "    fill: var(--fill-color);\n",
              "    height: 32px;\n",
              "    padding: 0;\n",
              "    width: 32px;\n",
              "  }\n",
              "\n",
              "  .colab-df-quickchart:hover {\n",
              "    background-color: var(--hover-bg-color);\n",
              "    box-shadow: 0 1px 2px rgba(60, 64, 67, 0.3), 0 1px 3px 1px rgba(60, 64, 67, 0.15);\n",
              "    fill: var(--button-hover-fill-color);\n",
              "  }\n",
              "\n",
              "  .colab-df-quickchart-complete:disabled,\n",
              "  .colab-df-quickchart-complete:disabled:hover {\n",
              "    background-color: var(--disabled-bg-color);\n",
              "    fill: var(--disabled-fill-color);\n",
              "    box-shadow: none;\n",
              "  }\n",
              "\n",
              "  .colab-df-spinner {\n",
              "    border: 2px solid var(--fill-color);\n",
              "    border-color: transparent;\n",
              "    border-bottom-color: var(--fill-color);\n",
              "    animation:\n",
              "      spin 1s steps(1) infinite;\n",
              "  }\n",
              "\n",
              "  @keyframes spin {\n",
              "    0% {\n",
              "      border-color: transparent;\n",
              "      border-bottom-color: var(--fill-color);\n",
              "      border-left-color: var(--fill-color);\n",
              "    }\n",
              "    20% {\n",
              "      border-color: transparent;\n",
              "      border-left-color: var(--fill-color);\n",
              "      border-top-color: var(--fill-color);\n",
              "    }\n",
              "    30% {\n",
              "      border-color: transparent;\n",
              "      border-left-color: var(--fill-color);\n",
              "      border-top-color: var(--fill-color);\n",
              "      border-right-color: var(--fill-color);\n",
              "    }\n",
              "    40% {\n",
              "      border-color: transparent;\n",
              "      border-right-color: var(--fill-color);\n",
              "      border-top-color: var(--fill-color);\n",
              "    }\n",
              "    60% {\n",
              "      border-color: transparent;\n",
              "      border-right-color: var(--fill-color);\n",
              "    }\n",
              "    80% {\n",
              "      border-color: transparent;\n",
              "      border-right-color: var(--fill-color);\n",
              "      border-bottom-color: var(--fill-color);\n",
              "    }\n",
              "    90% {\n",
              "      border-color: transparent;\n",
              "      border-bottom-color: var(--fill-color);\n",
              "    }\n",
              "  }\n",
              "</style>\n",
              "\n",
              "  <script>\n",
              "    async function quickchart(key) {\n",
              "      const quickchartButtonEl =\n",
              "        document.querySelector('#' + key + ' button');\n",
              "      quickchartButtonEl.disabled = true;  // To prevent multiple clicks.\n",
              "      quickchartButtonEl.classList.add('colab-df-spinner');\n",
              "      try {\n",
              "        const charts = await google.colab.kernel.invokeFunction(\n",
              "            'suggestCharts', [key], {});\n",
              "      } catch (error) {\n",
              "        console.error('Error during call to suggestCharts:', error);\n",
              "      }\n",
              "      quickchartButtonEl.classList.remove('colab-df-spinner');\n",
              "      quickchartButtonEl.classList.add('colab-df-quickchart-complete');\n",
              "    }\n",
              "    (() => {\n",
              "      let quickchartButtonEl =\n",
              "        document.querySelector('#df-8e01baa4-4d87-49a8-ab70-abb100c8c491 button');\n",
              "      quickchartButtonEl.style.display =\n",
              "        google.colab.kernel.accessAllowed ? 'block' : 'none';\n",
              "    })();\n",
              "  </script>\n",
              "</div>\n",
              "\n",
              "  <div id=\"id_8a5afe36-335b-4930-b88f-9ee24767eafe\">\n",
              "    <style>\n",
              "      .colab-df-generate {\n",
              "        background-color: #E8F0FE;\n",
              "        border: none;\n",
              "        border-radius: 50%;\n",
              "        cursor: pointer;\n",
              "        display: none;\n",
              "        fill: #1967D2;\n",
              "        height: 32px;\n",
              "        padding: 0 0 0 0;\n",
              "        width: 32px;\n",
              "      }\n",
              "\n",
              "      .colab-df-generate:hover {\n",
              "        background-color: #E2EBFA;\n",
              "        box-shadow: 0px 1px 2px rgba(60, 64, 67, 0.3), 0px 1px 3px 1px rgba(60, 64, 67, 0.15);\n",
              "        fill: #174EA6;\n",
              "      }\n",
              "\n",
              "      [theme=dark] .colab-df-generate {\n",
              "        background-color: #3B4455;\n",
              "        fill: #D2E3FC;\n",
              "      }\n",
              "\n",
              "      [theme=dark] .colab-df-generate:hover {\n",
              "        background-color: #434B5C;\n",
              "        box-shadow: 0px 1px 3px 1px rgba(0, 0, 0, 0.15);\n",
              "        filter: drop-shadow(0px 1px 2px rgba(0, 0, 0, 0.3));\n",
              "        fill: #FFFFFF;\n",
              "      }\n",
              "    </style>\n",
              "    <button class=\"colab-df-generate\" onclick=\"generateWithVariable('ventas_pais')\"\n",
              "            title=\"Generate code using this dataframe.\"\n",
              "            style=\"display:none;\">\n",
              "\n",
              "  <svg xmlns=\"http://www.w3.org/2000/svg\" height=\"24px\"viewBox=\"0 0 24 24\"\n",
              "       width=\"24px\">\n",
              "    <path d=\"M7,19H8.4L18.45,9,17,7.55,7,17.6ZM5,21V16.75L18.45,3.32a2,2,0,0,1,2.83,0l1.4,1.43a1.91,1.91,0,0,1,.58,1.4,1.91,1.91,0,0,1-.58,1.4L9.25,21ZM18.45,9,17,7.55Zm-12,3A5.31,5.31,0,0,0,4.9,8.1,5.31,5.31,0,0,0,1,6.5,5.31,5.31,0,0,0,4.9,4.9,5.31,5.31,0,0,0,6.5,1,5.31,5.31,0,0,0,8.1,4.9,5.31,5.31,0,0,0,12,6.5,5.46,5.46,0,0,0,6.5,12Z\"/>\n",
              "  </svg>\n",
              "    </button>\n",
              "    <script>\n",
              "      (() => {\n",
              "      const buttonEl =\n",
              "        document.querySelector('#id_8a5afe36-335b-4930-b88f-9ee24767eafe button.colab-df-generate');\n",
              "      buttonEl.style.display =\n",
              "        google.colab.kernel.accessAllowed ? 'block' : 'none';\n",
              "\n",
              "      buttonEl.onclick = () => {\n",
              "        google.colab.notebook.generateWithVariable('ventas_pais');\n",
              "      }\n",
              "      })();\n",
              "    </script>\n",
              "  </div>\n",
              "\n",
              "    </div>\n",
              "  </div>\n"
            ],
            "application/vnd.google.colaboratory.intrinsic+json": {
              "type": "dataframe",
              "variable_name": "ventas_pais",
              "summary": "{\n  \"name\": \"ventas_pais\",\n  \"rows\": 9,\n  \"fields\": [\n    {\n      \"column\": \"COUNTRY\",\n      \"properties\": {\n        \"dtype\": \"string\",\n        \"num_unique_values\": 9,\n        \"samples\": [\n          \"Portugal\",\n          \"Denmark\",\n          \"Netherlands\"\n        ],\n        \"semantic_type\": \"\",\n        \"description\": \"\"\n      }\n    },\n    {\n      \"column\": \"AMOUNT\",\n      \"properties\": {\n        \"dtype\": \"number\",\n        \"std\": 2583682583.027645,\n        \"min\": 218493569.4034291,\n        \"max\": 8427774971.702478,\n        \"num_unique_values\": 9,\n        \"samples\": [\n          387181572.87596995,\n          3173958673.0673018,\n          1831523575.5122635\n        ],\n        \"semantic_type\": \"\",\n        \"description\": \"\"\n      }\n    }\n  ]\n}"
            }
          },
          "metadata": {},
          "execution_count": 19
        }
      ]
    },
    {
      "cell_type": "markdown",
      "source": [
        "Como podemos ver en el gráfico, Gran Bretaña tiene la mayor cantidad de ventas, con más de 8 mil millones. Dinamarca y Hungría también tienen ventas considerables, aunque muy por debajo de Gran Bretaña, con aproximadamente 3 mil millones y cifras menores, respectivamente. Esto nos indica que, aunque estos países también son importantes, no alcanzan el nivel de ventas de Gran Bretaña.\n",
        "\n",
        "Por otro lado, los demás países, como Italia, Noruega, Países Bajos, Portugal y España, tienen ventas mucho más bajas. En estos casos, las ventas son limitadas, lo que puede significar que hay oportunidades de crecimiento o que los productos no están muy bien posicionados.\n",
        "\n",
        "Es importante identificar qué países generan más ventas para enfocar el marketing y distribución, también nos ayuda a reconocer áreas donde podría haber oportunidades de expansión o donde se necesitan otras estrategias para aumentar las ventas."
      ],
      "metadata": {
        "id": "r4SwpiIEk23c"
      }
    },
    {
      "cell_type": "markdown",
      "source": [
        "**GRÁFICO BARRAS POR PRODUCTO**"
      ],
      "metadata": {
        "id": "OPzaPOCgXw5L"
      }
    },
    {
      "cell_type": "code",
      "source": [
        "ventas_producto = df.groupby('SUBBRAND')['AMOUNT'].sum().reset_index()\n",
        "\n",
        "plt.figure(figsize=(12, 6))\n",
        "plt.bar(ventas_producto['SUBBRAND'], ventas_producto['AMOUNT'], color='lightgreen')\n",
        "plt.title('Ventas totales por Producto')\n",
        "plt.xlabel('Producto')\n",
        "plt.ylabel('Total ventas')\n",
        "plt.xticks(rotation=45)\n",
        "plt.grid(axis='y', alpha=0.75)\n",
        "plt.show()"
      ],
      "metadata": {
        "colab": {
          "base_uri": "https://localhost:8080/",
          "height": 653
        },
        "id": "4RM5atvhXldg",
        "outputId": "7c29ba1b-1bac-4691-f4b6-a2349cd18fda"
      },
      "execution_count": 20,
      "outputs": [
        {
          "output_type": "display_data",
          "data": {
            "text/plain": [
              "<Figure size 1200x600 with 1 Axes>"
            ],
            "image/png": "[encoded data removed]"
          },
          "metadata": {}
        }
      ]
    },
    {
      "cell_type": "markdown",
      "source": [
        "El gráfico nos muestra que el producto que más se vende es Pepsi Max siendo el más popular entre los consumidores.\n",
        "Los otros productos tienen ventas significativamente más bajas, rondando solo algunos millones. Con esto podemos comprobar que no están generando tanto interés o que podrían no ser tan conocidos.\n",
        "Teniendo en cuenta que Pepsi Max es el más vendido podría ser una oportunidad para que los otros productos aumenten su visibilidad y ventas, analizando o viendo por qué este producto gusta tanto."
      ],
      "metadata": {
        "id": "KOMPCkW6mDdD"
      }
    },
    {
      "cell_type": "code",
      "source": [
        "ventas_producto"
      ],
      "metadata": {
        "colab": {
          "base_uri": "https://localhost:8080/",
          "height": 237
        },
        "id": "2SVjIixkEZJo",
        "outputId": "3bb89502-9f70-4c6a-98e6-bf3b28f325cd"
      },
      "execution_count": 21,
      "outputs": [
        {
          "output_type": "execute_result",
          "data": {
            "text/plain": [
              "             SUBBRAND        AMOUNT\n",
              "0            7up (L3)  2.917746e+08\n",
              "1       7up Free (L3)  1.066603e+09\n",
              "2         Lipton (L3)  1.682028e+09\n",
              "3   Mountain Dew (L3)  1.316731e+08\n",
              "4      Pepsi Max (L3)  1.229538e+10\n",
              "5  Pepsi Regular (L3)  2.679291e+09"
            ],
            "text/html": [
              "\n",
              "  <div id=\"df-1439a24a-8bf9-4dff-ae78-cf6a0ff2b0b4\" class=\"colab-df-container\">\n",
              "    <div>\n",
              "<style scoped>\n",
              "    .dataframe tbody tr th:only-of-type {\n",
              "        vertical-align: middle;\n",
              "    }\n",
              "\n",
              "    .dataframe tbody tr th {\n",
              "        vertical-align: top;\n",
              "    }\n",
              "\n",
              "    .dataframe thead th {\n",
              "        text-align: right;\n",
              "    }\n",
              "</style>\n",
              "<table border=\"1\" class=\"dataframe\">\n",
              "  <thead>\n",
              "    <tr style=\"text-align: right;\">\n",
              "      <th></th>\n",
              "      <th>SUBBRAND</th>\n",
              "      <th>AMOUNT</th>\n",
              "    </tr>\n",
              "  </thead>\n",
              "  <tbody>\n",
              "    <tr>\n",
              "      <th>0</th>\n",
              "      <td>7up (L3)</td>\n",
              "      <td>2.917746e+08</td>\n",
              "    </tr>\n",
              "    <tr>\n",
              "      <th>1</th>\n",
              "      <td>7up Free (L3)</td>\n",
              "      <td>1.066603e+09</td>\n",
              "    </tr>\n",
              "    <tr>\n",
              "      <th>2</th>\n",
              "      <td>Lipton (L3)</td>\n",
              "      <td>1.682028e+09</td>\n",
              "    </tr>\n",
              "    <tr>\n",
              "      <th>3</th>\n",
              "      <td>Mountain Dew (L3)</td>\n",
              "      <td>1.316731e+08</td>\n",
              "    </tr>\n",
              "    <tr>\n",
              "      <th>4</th>\n",
              "      <td>Pepsi Max (L3)</td>\n",
              "      <td>1.229538e+10</td>\n",
              "    </tr>\n",
              "    <tr>\n",
              "      <th>5</th>\n",
              "      <td>Pepsi Regular (L3)</td>\n",
              "      <td>2.679291e+09</td>\n",
              "    </tr>\n",
              "  </tbody>\n",
              "</table>\n",
              "</div>\n",
              "    <div class=\"colab-df-buttons\">\n",
              "\n",
              "  <div class=\"colab-df-container\">\n",
              "    <button class=\"colab-df-convert\" onclick=\"convertToInteractive('df-1439a24a-8bf9-4dff-ae78-cf6a0ff2b0b4')\"\n",
              "            title=\"Convert this dataframe to an interactive table.\"\n",
              "            style=\"display:none;\">\n",
              "\n",
              "  <svg xmlns=\"http://www.w3.org/2000/svg\" height=\"24px\" viewBox=\"0 -960 960 960\">\n",
              "    <path d=\"M120-120v-720h720v720H120Zm60-500h600v-160H180v160Zm220 220h160v-160H400v160Zm0 220h160v-160H400v160ZM180-400h160v-160H180v160Zm440 0h160v-160H620v160ZM180-180h160v-160H180v160Zm440 0h160v-160H620v160Z\"/>\n",
              "  </svg>\n",
              "    </button>\n",
              "\n",
              "  <style>\n",
              "    .colab-df-container {\n",
              "      display:flex;\n",
              "      gap: 12px;\n",
              "    }\n",
              "\n",
              "    .colab-df-convert {\n",
              "      background-color: #E8F0FE;\n",
              "      border: none;\n",
              "      border-radius: 50%;\n",
              "      cursor: pointer;\n",
              "      display: none;\n",
              "      fill: #1967D2;\n",
              "      height: 32px;\n",
              "      padding: 0 0 0 0;\n",
              "      width: 32px;\n",
              "    }\n",
              "\n",
              "    .colab-df-convert:hover {\n",
              "      background-color: #E2EBFA;\n",
              "      box-shadow: 0px 1px 2px rgba(60, 64, 67, 0.3), 0px 1px 3px 1px rgba(60, 64, 67, 0.15);\n",
              "      fill: #174EA6;\n",
              "    }\n",
              "\n",
              "    .colab-df-buttons div {\n",
              "      margin-bottom: 4px;\n",
              "    }\n",
              "\n",
              "    [theme=dark] .colab-df-convert {\n",
              "      background-color: #3B4455;\n",
              "      fill: #D2E3FC;\n",
              "    }\n",
              "\n",
              "    [theme=dark] .colab-df-convert:hover {\n",
              "      background-color: #434B5C;\n",
              "      box-shadow: 0px 1px 3px 1px rgba(0, 0, 0, 0.15);\n",
              "      filter: drop-shadow(0px 1px 2px rgba(0, 0, 0, 0.3));\n",
              "      fill: #FFFFFF;\n",
              "    }\n",
              "  </style>\n",
              "\n",
              "    <script>\n",
              "      const buttonEl =\n",
              "        document.querySelector('#df-1439a24a-8bf9-4dff-ae78-cf6a0ff2b0b4 button.colab-df-convert');\n",
              "      buttonEl.style.display =\n",
              "        google.colab.kernel.accessAllowed ? 'block' : 'none';\n",
              "\n",
              "      async function convertToInteractive(key) {\n",
              "        const element = document.querySelector('#df-1439a24a-8bf9-4dff-ae78-cf6a0ff2b0b4');\n",
              "        const dataTable =\n",
              "          await google.colab.kernel.invokeFunction('convertToInteractive',\n",
              "                                                    [key], {});\n",
              "        if (!dataTable) return;\n",
              "\n",
              "        const docLinkHtml = 'Like what you see? Visit the ' +\n",
              "          '<a target=\"_blank\" href=https://colab.research.google.com/notebooks/data_table.ipynb>data table notebook</a>'\n",
              "          + ' to learn more about interactive tables.';\n",
              "        element.innerHTML = '';\n",
              "        dataTable['output_type'] = 'display_data';\n",
              "        await google.colab.output.renderOutput(dataTable, element);\n",
              "        const docLink = document.createElement('div');\n",
              "        docLink.innerHTML = docLinkHtml;\n",
              "        element.appendChild(docLink);\n",
              "      }\n",
              "    </script>\n",
              "  </div>\n",
              "\n",
              "\n",
              "<div id=\"df-c1356059-938b-4b15-8252-2c9e51b34544\">\n",
              "  <button class=\"colab-df-quickchart\" onclick=\"quickchart('df-c1356059-938b-4b15-8252-2c9e51b34544')\"\n",
              "            title=\"Suggest charts\"\n",
              "            style=\"display:none;\">\n",
              "\n",
              "<svg xmlns=\"http://www.w3.org/2000/svg\" height=\"24px\"viewBox=\"0 0 24 24\"\n",
              "     width=\"24px\">\n",
              "    <g>\n",
              "        <path d=\"M19 3H5c-1.1 0-2 .9-2 2v14c0 1.1.9 2 2 2h14c1.1 0 2-.9 2-2V5c0-1.1-.9-2-2-2zM9 17H7v-7h2v7zm4 0h-2V7h2v10zm4 0h-2v-4h2v4z\"/>\n",
              "    </g>\n",
              "</svg>\n",
              "  </button>\n",
              "\n",
              "<style>\n",
              "  .colab-df-quickchart {\n",
              "      --bg-color: #E8F0FE;\n",
              "      --fill-color: #1967D2;\n",
              "      --hover-bg-color: #E2EBFA;\n",
              "      --hover-fill-color: #174EA6;\n",
              "      --disabled-fill-color: #AAA;\n",
              "      --disabled-bg-color: #DDD;\n",
              "  }\n",
              "\n",
              "  [theme=dark] .colab-df-quickchart {\n",
              "      --bg-color: #3B4455;\n",
              "      --fill-color: #D2E3FC;\n",
              "      --hover-bg-color: #434B5C;\n",
              "      --hover-fill-color: #FFFFFF;\n",
              "      --disabled-bg-color: #3B4455;\n",
              "      --disabled-fill-color: #666;\n",
              "  }\n",
              "\n",
              "  .colab-df-quickchart {\n",
              "    background-color: var(--bg-color);\n",
              "    border: none;\n",
              "    border-radius: 50%;\n",
              "    cursor: pointer;\n",
              "    display: none;\n",
              "    fill: var(--fill-color);\n",
              "    height: 32px;\n",
              "    padding: 0;\n",
              "    width: 32px;\n",
              "  }\n",
              "\n",
              "  .colab-df-quickchart:hover {\n",
              "    background-color: var(--hover-bg-color);\n",
              "    box-shadow: 0 1px 2px rgba(60, 64, 67, 0.3), 0 1px 3px 1px rgba(60, 64, 67, 0.15);\n",
              "    fill: var(--button-hover-fill-color);\n",
              "  }\n",
              "\n",
              "  .colab-df-quickchart-complete:disabled,\n",
              "  .colab-df-quickchart-complete:disabled:hover {\n",
              "    background-color: var(--disabled-bg-color);\n",
              "    fill: var(--disabled-fill-color);\n",
              "    box-shadow: none;\n",
              "  }\n",
              "\n",
              "  .colab-df-spinner {\n",
              "    border: 2px solid var(--fill-color);\n",
              "    border-color: transparent;\n",
              "    border-bottom-color: var(--fill-color);\n",
              "    animation:\n",
              "      spin 1s steps(1) infinite;\n",
              "  }\n",
              "\n",
              "  @keyframes spin {\n",
              "    0% {\n",
              "      border-color: transparent;\n",
              "      border-bottom-color: var(--fill-color);\n",
              "      border-left-color: var(--fill-color);\n",
              "    }\n",
              "    20% {\n",
              "      border-color: transparent;\n",
              "      border-left-color: var(--fill-color);\n",
              "      border-top-color: var(--fill-color);\n",
              "    }\n",
              "    30% {\n",
              "      border-color: transparent;\n",
              "      border-left-color: var(--fill-color);\n",
              "      border-top-color: var(--fill-color);\n",
              "      border-right-color: var(--fill-color);\n",
              "    }\n",
              "    40% {\n",
              "      border-color: transparent;\n",
              "      border-right-color: var(--fill-color);\n",
              "      border-top-color: var(--fill-color);\n",
              "    }\n",
              "    60% {\n",
              "      border-color: transparent;\n",
              "      border-right-color: var(--fill-color);\n",
              "    }\n",
              "    80% {\n",
              "      border-color: transparent;\n",
              "      border-right-color: var(--fill-color);\n",
              "      border-bottom-color: var(--fill-color);\n",
              "    }\n",
              "    90% {\n",
              "      border-color: transparent;\n",
              "      border-bottom-color: var(--fill-color);\n",
              "    }\n",
              "  }\n",
              "</style>\n",
              "\n",
              "  <script>\n",
              "    async function quickchart(key) {\n",
              "      const quickchartButtonEl =\n",
              "        document.querySelector('#' + key + ' button');\n",
              "      quickchartButtonEl.disabled = true;  // To prevent multiple clicks.\n",
              "      quickchartButtonEl.classList.add('colab-df-spinner');\n",
              "      try {\n",
              "        const charts = await google.colab.kernel.invokeFunction(\n",
              "            'suggestCharts', [key], {});\n",
              "      } catch (error) {\n",
              "        console.error('Error during call to suggestCharts:', error);\n",
              "      }\n",
              "      quickchartButtonEl.classList.remove('colab-df-spinner');\n",
              "      quickchartButtonEl.classList.add('colab-df-quickchart-complete');\n",
              "    }\n",
              "    (() => {\n",
              "      let quickchartButtonEl =\n",
              "        document.querySelector('#df-c1356059-938b-4b15-8252-2c9e51b34544 button');\n",
              "      quickchartButtonEl.style.display =\n",
              "        google.colab.kernel.accessAllowed ? 'block' : 'none';\n",
              "    })();\n",
              "  </script>\n",
              "</div>\n",
              "\n",
              "  <div id=\"id_98ed5262-8562-4080-b0d3-9e0c08343d79\">\n",
              "    <style>\n",
              "      .colab-df-generate {\n",
              "        background-color: #E8F0FE;\n",
              "        border: none;\n",
              "        border-radius: 50%;\n",
              "        cursor: pointer;\n",
              "        display: none;\n",
              "        fill: #1967D2;\n",
              "        height: 32px;\n",
              "        padding: 0 0 0 0;\n",
              "        width: 32px;\n",
              "      }\n",
              "\n",
              "      .colab-df-generate:hover {\n",
              "        background-color: #E2EBFA;\n",
              "        box-shadow: 0px 1px 2px rgba(60, 64, 67, 0.3), 0px 1px 3px 1px rgba(60, 64, 67, 0.15);\n",
              "        fill: #174EA6;\n",
              "      }\n",
              "\n",
              "      [theme=dark] .colab-df-generate {\n",
              "        background-color: #3B4455;\n",
              "        fill: #D2E3FC;\n",
              "      }\n",
              "\n",
              "      [theme=dark] .colab-df-generate:hover {\n",
              "        background-color: #434B5C;\n",
              "        box-shadow: 0px 1px 3px 1px rgba(0, 0, 0, 0.15);\n",
              "        filter: drop-shadow(0px 1px 2px rgba(0, 0, 0, 0.3));\n",
              "        fill: #FFFFFF;\n",
              "      }\n",
              "    </style>\n",
              "    <button class=\"colab-df-generate\" onclick=\"generateWithVariable('ventas_producto')\"\n",
              "            title=\"Generate code using this dataframe.\"\n",
              "            style=\"display:none;\">\n",
              "\n",
              "  <svg xmlns=\"http://www.w3.org/2000/svg\" height=\"24px\"viewBox=\"0 0 24 24\"\n",
              "       width=\"24px\">\n",
              "    <path d=\"M7,19H8.4L18.45,9,17,7.55,7,17.6ZM5,21V16.75L18.45,3.32a2,2,0,0,1,2.83,0l1.4,1.43a1.91,1.91,0,0,1,.58,1.4,1.91,1.91,0,0,1-.58,1.4L9.25,21ZM18.45,9,17,7.55Zm-12,3A5.31,5.31,0,0,0,4.9,8.1,5.31,5.31,0,0,0,1,6.5,5.31,5.31,0,0,0,4.9,4.9,5.31,5.31,0,0,0,6.5,1,5.31,5.31,0,0,0,8.1,4.9,5.31,5.31,0,0,0,12,6.5,5.46,5.46,0,0,0,6.5,12Z\"/>\n",
              "  </svg>\n",
              "    </button>\n",
              "    <script>\n",
              "      (() => {\n",
              "      const buttonEl =\n",
              "        document.querySelector('#id_98ed5262-8562-4080-b0d3-9e0c08343d79 button.colab-df-generate');\n",
              "      buttonEl.style.display =\n",
              "        google.colab.kernel.accessAllowed ? 'block' : 'none';\n",
              "\n",
              "      buttonEl.onclick = () => {\n",
              "        google.colab.notebook.generateWithVariable('ventas_producto');\n",
              "      }\n",
              "      })();\n",
              "    </script>\n",
              "  </div>\n",
              "\n",
              "    </div>\n",
              "  </div>\n"
            ],
            "application/vnd.google.colaboratory.intrinsic+json": {
              "type": "dataframe",
              "variable_name": "ventas_producto",
              "summary": "{\n  \"name\": \"ventas_producto\",\n  \"rows\": 6,\n  \"fields\": [\n    {\n      \"column\": \"SUBBRAND\",\n      \"properties\": {\n        \"dtype\": \"string\",\n        \"num_unique_values\": 6,\n        \"samples\": [\n          \"7up (L3)\",\n          \"7up Free (L3)\",\n          \"Pepsi Regular (L3)\"\n        ],\n        \"semantic_type\": \"\",\n        \"description\": \"\"\n      }\n    },\n    {\n      \"column\": \"AMOUNT\",\n      \"properties\": {\n        \"dtype\": \"number\",\n        \"std\": 4637677672.77463,\n        \"min\": 131673092.42342074,\n        \"max\": 12295383232.252453,\n        \"num_unique_values\": 6,\n        \"samples\": [\n          291774648.39777964,\n          1066603061.6494004,\n          2679291368.5550356\n        ],\n        \"semantic_type\": \"\",\n        \"description\": \"\"\n      }\n    }\n  ]\n}"
            }
          },
          "metadata": {},
          "execution_count": 21
        }
      ]
    },
    {
      "cell_type": "markdown",
      "source": [
        "**TENDENCIA Y ESTACIONALIDAD DEL PAÍS CON MENOS VENTAS**\n",
        "\n",
        "Para ver el comportamiento de ese país a lo largo del tiempo\n",
        "\n",
        "Primero agrupamos las ventas por país y las sumamos para identificar el país con menos ventas ya que eso es lo que nos piden y son los datos que vamos a utilizar para representar la tendencia y estacionalidad.\n",
        "Combinamos las columnas MONTH y YEAR en una nueva llamada DATE que contiene la fecha entera para que nos sea más fácil trabajar con ello.\n",
        "\n",
        "Luego, agrupamos los datos de esta nueva columna para sumar las ventas mensuales y calcula la tendencia mediante un medio móvil de 3 meses, lo que ayuda a suavizar las fluctuaciones y a ver la dirección general de las ventas. Extraemos el mes de la columna creada de la fecha para calcular la estacionalidad, agrupando las ventas promedio por mes para identificar patrones recurrentes a lo largo del año."
      ],
      "metadata": {
        "id": "sebnoDcL3XYH"
      }
    },
    {
      "cell_type": "code",
      "source": [
        "#agrupamos las ventas por países teniendo en cuenta las cantidades\n",
        "ventas_pais = df.groupby('COUNTRY')['AMOUNT'].sum().reset_index()\n",
        "\n",
        "# encontramos el país con menos ventas\n",
        "pais_menos_ventas = ventas_pais.loc[ventas_pais['AMOUNT'].idxmin()]\n",
        "#datos a utilizar: país seleccionado con menos ventas\n",
        "df_pais_menos_ventas = df[df['COUNTRY'] == pais_menos_ventas['COUNTRY']]\n",
        "df_pais_menos_ventas['MONTH'] = df_pais_menos_ventas['MONTH'].astype(int)\n",
        "\n",
        "# nueva columna fecha (año + mes)\n",
        "df_pais_menos_ventas['MONTH'] = df_pais_menos_ventas['MONTH'].apply(lambda x: f'{x:02d}')\n",
        "df_pais_menos_ventas['DATE'] = pd.to_datetime(df_pais_menos_ventas['MONTH'] + '-' + df_pais_menos_ventas['YEAR'].astype(str))\n",
        "\n",
        "ventas_mes = df_pais_menos_ventas.groupby('DATE')['AMOUNT'].sum().reset_index()\n",
        "\n",
        "# tendencia\n",
        "ventas_mes['Trend'] = ventas_mes['AMOUNT'].rolling(window=3).mean()\n",
        "\n",
        "# estacionalidad\n",
        "ventas_mes['Month'] = ventas_mes['DATE'].dt.month\n",
        "seasonal_sales = ventas_mes.groupby('Month')['AMOUNT'].mean().reset_index()\n",
        "\n",
        "# graficamos\n",
        "plt.figure(figsize=(12, 6))\n",
        "plt.plot(ventas_mes['DATE'], ventas_mes['AMOUNT'], label='Ventas', color='blue')\n",
        "plt.plot(ventas_mes['DATE'], ventas_mes['Trend'], label='Tendencia (Media Móvil)', color='orange')\n",
        "plt.title(f'Tendencia de Ventas en {pais_menos_ventas[\"COUNTRY\"]}')\n",
        "plt.xlabel('Fecha')\n",
        "plt.ylabel('Monto de Ventas')\n",
        "plt.legend()\n",
        "plt.show()"
      ],
      "metadata": {
        "colab": {
          "base_uri": "https://localhost:8080/",
          "height": 931
        },
        "id": "UzLpglOE1DF7",
        "outputId": "5192d29d-b589-45f9-ee31-9965d3f303ed"
      },
      "execution_count": 22,
      "outputs": [
        {
          "output_type": "stream",
          "name": "stderr",
          "text": [
            "<ipython-input-22-0517636a2ce2>:8: SettingWithCopyWarning: \n",
            "A value is trying to be set on a copy of a slice from a DataFrame.\n",
            "Try using .loc[row_indexer,col_indexer] = value instead\n",
            "\n",
            "See the caveats in the documentation: https://pandas.pydata.org/pandas-docs/stable/user_guide/indexing.html#returning-a-view-versus-a-copy\n",
            "  df_pais_menos_ventas['MONTH'] = df_pais_menos_ventas['MONTH'].astype(int)\n",
            "<ipython-input-22-0517636a2ce2>:11: SettingWithCopyWarning: \n",
            "A value is trying to be set on a copy of a slice from a DataFrame.\n",
            "Try using .loc[row_indexer,col_indexer] = value instead\n",
            "\n",
            "See the caveats in the documentation: https://pandas.pydata.org/pandas-docs/stable/user_guide/indexing.html#returning-a-view-versus-a-copy\n",
            "  df_pais_menos_ventas['MONTH'] = df_pais_menos_ventas['MONTH'].apply(lambda x: f'{x:02d}')\n",
            "<ipython-input-22-0517636a2ce2>:12: UserWarning: Could not infer format, so each element will be parsed individually, falling back to `dateutil`. To ensure parsing is consistent and as-expected, please specify a format.\n",
            "  df_pais_menos_ventas['DATE'] = pd.to_datetime(df_pais_menos_ventas['MONTH'] + '-' + df_pais_menos_ventas['YEAR'].astype(str))\n",
            "<ipython-input-22-0517636a2ce2>:12: SettingWithCopyWarning: \n",
            "A value is trying to be set on a copy of a slice from a DataFrame.\n",
            "Try using .loc[row_indexer,col_indexer] = value instead\n",
            "\n",
            "See the caveats in the documentation: https://pandas.pydata.org/pandas-docs/stable/user_guide/indexing.html#returning-a-view-versus-a-copy\n",
            "  df_pais_menos_ventas['DATE'] = pd.to_datetime(df_pais_menos_ventas['MONTH'] + '-' + df_pais_menos_ventas['YEAR'].astype(str))\n"
          ]
        },
        {
          "output_type": "display_data",
          "data": {
            "text/plain": [
              "<Figure size 1200x600 with 1 Axes>"
            ],
            "image/png": "[encoded data removed]"
          },
          "metadata": {}
        }
      ]
    },
    {
      "cell_type": "markdown",
      "source": [
        "El gráfico muestra un comportamiento general positivo, ya que la línea azul, que representa las ventas totales, indica un aumento a lo largo del tiempo. A pesar de ser el país con menos ventas, la tendencia muestra un crecimiento sostenido, lo que nos indica que la empresa está comenzando a estabilizarse y expandirse en este mercado. La línea amarilla, que representa la media móvil, suaviza las fluctuaciones mensuales, de manera que resalta, aunque hay picos y caídas, la dirección general de las ventas sigue siendo ascendente."
      ],
      "metadata": {
        "id": "zLpWaXJkBpu2"
      }
    },
    {
      "cell_type": "code",
      "source": [
        "# estacionalidad\n",
        "plt.figure(figsize=(12, 6))\n",
        "plt.bar(seasonal_sales['Month'], seasonal_sales['AMOUNT'], color='lightgreen')\n",
        "plt.title(f'Estacionalidad de Ventas en {pais_menos_ventas[\"COUNTRY\"]} por Mes')\n",
        "plt.xlabel('Mes')\n",
        "plt.ylabel('Promedio de Ventas')\n",
        "plt.xticks(range(1, 13))\n",
        "plt.show()"
      ],
      "metadata": {
        "colab": {
          "base_uri": "https://localhost:8080/",
          "height": 564
        },
        "id": "SfYfCuAA-mYZ",
        "outputId": "cdee4a00-caee-4122-ad1e-76130c00bb7a"
      },
      "execution_count": 23,
      "outputs": [
        {
          "output_type": "display_data",
          "data": {
            "text/plain": [
              "<Figure size 1200x600 with 1 Axes>"
            ],
            "image/png": "[encoded data removed]"
          },
          "metadata": {}
        }
      ]
    },
    {
      "cell_type": "markdown",
      "source": [
        "Podemos observar patrones significativos en el comportamiento de consumo a lo largo del año. Si nos fijamos, en los meses de verano, como junio, julio y agosto, muestran barras más altas, lo que se refiere a un aumento en la demanda, posiblemente debido a las vacaciones. Por otro lado, meses como diciembre, enero y febrero, indican una reducción en el consumo durante estos períodos, lo que puede deberse a factores climáticos o cambios en los hábitos de compra."
      ],
      "metadata": {
        "id": "P1q4a30FCZTP"
      }
    },
    {
      "cell_type": "code",
      "source": [
        "print(\"País con menos ventas:\", pais_menos_ventas)"
      ],
      "metadata": {
        "colab": {
          "base_uri": "https://localhost:8080/"
        },
        "id": "IdikLInJ-nH9",
        "outputId": "c7d8aa04-69a7-410d-9588-d715ece2d86c"
      },
      "execution_count": 24,
      "outputs": [
        {
          "output_type": "stream",
          "name": "stdout",
          "text": [
            "País con menos ventas: COUNTRY               Spain\n",
            "AMOUNT     218493569.403429\n",
            "Name: 8, dtype: object\n"
          ]
        }
      ]
    },
    {
      "cell_type": "markdown",
      "source": [
        "**CUÁLES SON LAS PREDICCIONES HECHAS EN ESPAÑA Y CÓMO DE BUENAS SON**"
      ],
      "metadata": {
        "id": "BLEunxw8peUG"
      }
    },
    {
      "cell_type": "markdown",
      "source": [
        "Aunque no lo hemos tenido en cuenta para el resto de apartados, para este caso concreto y apartado final, eliminamos los duplicados (error de la base de datos) para poder hallar las predicciones correctamente."
      ],
      "metadata": {
        "id": "M7nsojMKvUUn"
      }
    },
    {
      "cell_type": "code",
      "source": [
        "df = df.drop_duplicates()"
      ],
      "metadata": {
        "id": "SQHVK6meCffm"
      },
      "execution_count": 26,
      "outputs": []
    },
    {
      "cell_type": "markdown",
      "source": [
        "Solo tenemos en cuenta los datos para España que es el país del cuál queremos calcular y analizar las predicciones"
      ],
      "metadata": {
        "id": "tEwuPOE_DhkE"
      }
    },
    {
      "cell_type": "code",
      "source": [
        "df_spain = df[df['COUNTRY'] == 'Spain']"
      ],
      "metadata": {
        "id": "LEG0wGFkDe14"
      },
      "execution_count": 27,
      "outputs": []
    },
    {
      "cell_type": "markdown",
      "source": [
        "Ahora agrupamos las ventas por TIPO DE PREDICCIÓN, es decir, en función de la columna 'FORECAST' que como vimos en apartados anteriores, hay 12. Al agruparlas, y luego sumarlas, podremos estudiar luego las predicciones,"
      ],
      "metadata": {
        "id": "dKNBOiIGDtt7"
      }
    },
    {
      "cell_type": "code",
      "source": [
        "# Agrupamos ventas según predicción\n",
        "predicciones_ventas = df_spain.groupby('FORECAST')['AMOUNT'].sum().reset_index()\n",
        "\n",
        "# Graficamos las ventas por predicción\n",
        "plt.figure(figsize=(12, 6))\n",
        "plt.bar(predicciones_ventas['FORECAST'], predicciones_ventas['AMOUNT'], color='skyblue')\n",
        "plt.title('Ventas Totales por Tipo de Predicción en España')\n",
        "plt.xlabel('Tipo Predicción')\n",
        "plt.ylabel('Total Ventas')\n",
        "plt.xticks(rotation=45)\n",
        "plt.grid(axis='y', alpha=0.75)\n",
        "plt.tight_layout()\n",
        "plt.show()"
      ],
      "metadata": {
        "id": "G2RPPKAgDrOb",
        "outputId": "8050e2f4-0521-45a7-943e-5c185763dbf2",
        "colab": {
          "base_uri": "https://localhost:8080/",
          "height": 607
        }
      },
      "execution_count": 29,
      "outputs": [
        {
          "output_type": "display_data",
          "data": {
            "text/plain": [
              "<Figure size 1200x600 with 1 Axes>"
            ],
            "image/png": "[encoded data removed]"
          },
          "metadata": {}
        }
      ]
    },
    {
      "cell_type": "markdown",
      "source": [
        "En el gráfico podemos ver las ventas totales por tipo de predicción en España, las barras representan diferentes predicciones de ventas.\n",
        "Si nos fijamos, las dos primeras predicciones (‘AI_P02F’ y ‘AI_P03F’) tienen barras mucho más bajas en comparación con las otras, lo que significa que las ventas proyectadas por estos tipos de predicción son bastante menores que las predicciones siguientes. Es decir, estos modelos de predicción iniciales (primeros meses) no fueron tan precisos para las ventas reales.\n",
        "En cuánto a los casos desde ‘AI_P04F’ a ‘AI_P12F’, se ve que tienen ventas mucho más altas y las barras son más o menos de la misma altura. Nos podría indicar que las predicciones de estos tipos tienen un impacto considerable en las ventas, lo que demuestra mayor confiabilidad en las proyecciones para estos períodos.\n",
        "La uúltima barra vuelve a ser bastante más corta, se trata de una predicción menos precisa o que no tiene tanta relevancia en el análisis."
      ],
      "metadata": {
        "id": "espAdif6Ety-"
      }
    }
  ]
}